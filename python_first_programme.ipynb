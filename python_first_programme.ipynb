{
  "nbformat": 4,
  "nbformat_minor": 0,
  "metadata": {
    "colab": {
      "name": "python_first_programme.ipynb",
      "provenance": [],
      "toc_visible": true,
      "authorship_tag": "ABX9TyOY0ZnxXE9kqeUTQcpjhoM2",
      "include_colab_link": true
    },
    "kernelspec": {
      "name": "python3",
      "display_name": "Python 3"
    }
  },
  "cells": [
    {
      "cell_type": "markdown",
      "metadata": {
        "id": "view-in-github",
        "colab_type": "text"
      },
      "source": [
        "<a href=\"https://colab.research.google.com/github/jmisrikhanov/Assignment/blob/main/python_first_programme.ipynb\" target=\"_parent\"><img src=\"https://colab.research.google.com/assets/colab-badge.svg\" alt=\"Open In Colab\"/></a>"
      ]
    },
    {
      "cell_type": "code",
      "metadata": {
        "colab": {
          "base_uri": "https://localhost:8080/"
        },
        "id": "C3-jiuQNta7s",
        "outputId": "b0c99bb4-6ccc-420a-d190-85f19ac0f609"
      },
      "source": [
        "text = (\"Clarusway\", \"Clarusway\", \"Clarusway\")\n",
        "print(text)\n",
        "print('\\t', text)\n",
        "print('\\t', '\\t', text)    "
      ],
      "execution_count": null,
      "outputs": [
        {
          "output_type": "stream",
          "text": [
            "('Clarusway', 'Clarusway', 'Clarusway')\n",
            "\t ('Clarusway', 'Clarusway', 'Clarusway')\n",
            "\t \t ('Clarusway', 'Clarusway', 'Clarusway')\n"
          ],
          "name": "stdout"
        }
      ]
    },
    {
      "cell_type": "code",
      "metadata": {
        "colab": {
          "base_uri": "https://localhost:8080/"
        },
        "id": "tSvomcjbP6J4",
        "outputId": "0463dde4-3870-4ef2-9311-dd0cdeb26675"
      },
      "source": [
        "answer = 'Javid'\n",
        "\n",
        "question = 'What is your name?  '\n",
        "print (\"Let's find the password!\")\n",
        "\n",
        "while True:\n",
        "    guess = str(input(question))\n",
        "\n",
        "    if guess == answer:\n",
        "        print(\"Hello, Joseph! The password is : W@12\")\n",
        "    else: \n",
        "        print(\"Hello, Amina! See you later.\")\n",
        "    break"
      ],
      "execution_count": 8,
      "outputs": [
        {
          "output_type": "stream",
          "text": [
            "Let's find the password!\n",
            "What is your name?  d\n",
            "Hello, Amina! See you later.\n"
          ],
          "name": "stdout"
        }
      ]
    },
    {
      "cell_type": "code",
      "metadata": {
        "id": "TYWQspJMrE2n",
        "colab": {
          "base_uri": "https://localhost:8080/"
        },
        "outputId": "2c03a78c-c75b-4e88-c5ef-fb15a715edd3"
      },
      "source": [
        "0.1 + 0.1"
      ],
      "execution_count": null,
      "outputs": [
        {
          "output_type": "execute_result",
          "data": {
            "text/plain": [
              "0.2"
            ]
          },
          "metadata": {
            "tags": []
          },
          "execution_count": 1
        }
      ]
    },
    {
      "cell_type": "code",
      "metadata": {
        "colab": {
          "base_uri": "https://localhost:8080/"
        },
        "id": "ir2ID4akPrG0",
        "outputId": "60fe189f-0006-4837-f7b3-5438826ece1d"
      },
      "source": [
        "import this"
      ],
      "execution_count": null,
      "outputs": [
        {
          "output_type": "stream",
          "text": [
            "The Zen of Python, by Tim Peters\n",
            "\n",
            "Beautiful is better than ugly.\n",
            "Explicit is better than implicit.\n",
            "Simple is better than complex.\n",
            "Complex is better than complicated.\n",
            "Flat is better than nested.\n",
            "Sparse is better than dense.\n",
            "Readability counts.\n",
            "Special cases aren't special enough to break the rules.\n",
            "Although practicality beats purity.\n",
            "Errors should never pass silently.\n",
            "Unless explicitly silenced.\n",
            "In the face of ambiguity, refuse the temptation to guess.\n",
            "There should be one-- and preferably only one --obvious way to do it.\n",
            "Although that way may not be obvious at first unless you're Dutch.\n",
            "Now is better than never.\n",
            "Although never is often better than *right* now.\n",
            "If the implementation is hard to explain, it's a bad idea.\n",
            "If the implementation is easy to explain, it may be a good idea.\n",
            "Namespaces are one honking great idea -- let's do more of those!\n"
          ],
          "name": "stdout"
        }
      ]
    },
    {
      "cell_type": "code",
      "metadata": {
        "colab": {
          "base_uri": "https://localhost:8080/"
        },
        "id": "UoOtzhILBryY",
        "outputId": "4139e2d3-a15e-4ba3-c518-ff55f6f52f31"
      },
      "source": [
        "flowers = ['Rose', 'Orchid', 'Tulip']\n",
        "count1 = len(flowers)\n",
        "count2 = 0\n",
        "while count1 > 0 :\n",
        "    print(flowers[count2])\n",
        "    count1 -= 1\n",
        "    count2 += 1"
      ],
      "execution_count": null,
      "outputs": [
        {
          "output_type": "stream",
          "text": [
            "Rose\n",
            "Orchid\n",
            "Tulip\n"
          ],
          "name": "stdout"
        }
      ]
    },
    {
      "cell_type": "code",
      "metadata": {
        "id": "ymhXSMOYUPkH",
        "colab": {
          "base_uri": "https://localhost:8080/"
        },
        "outputId": "45a0d487-5bed-4f6c-f3a1-5be05b2ca465"
      },
      "source": [
        "In [4]: import math  \n",
        "\n",
        "In [5]: math.log(1)"
      ],
      "execution_count": null,
      "outputs": [
        {
          "output_type": "execute_result",
          "data": {
            "text/plain": [
              "0.0"
            ]
          },
          "metadata": {
            "tags": []
          },
          "execution_count": 2
        }
      ]
    },
    {
      "cell_type": "code",
      "metadata": {
        "colab": {
          "base_uri": "https://localhost:8080/"
        },
        "id": "KJRv_nQ6H2NF",
        "outputId": "79ab6d69-da09-4253-a85a-9f9bf99d8a2e"
      },
      "source": [
        "\n",
        "if number >= 10:\n",
        "    print('The number is equal or greater than 10')\n",
        "elif number < 10:\n",
        "    print('The number is less than 10')"
      ],
      "execution_count": null,
      "outputs": [
        {
          "output_type": "stream",
          "text": [
            "The number is less than 10\n"
          ],
          "name": "stdout"
        }
      ]
    },
    {
      "cell_type": "code",
      "metadata": {
        "colab": {
          "base_uri": "https://localhost:8080/"
        },
        "id": "3mw0zgo0okKw",
        "outputId": "e23618de-94a0-4dc8-bf0c-24694782343d"
      },
      "source": [
        "audience_group = 'kid', 'teen', 'adult'\n",
        "\n",
        "audience = \"teen\"\n",
        "\n",
        "if audience in audience_group:\n",
        "    if audience == \"kid\":\n",
        "        print(\"it is free to go to cinema\")\n",
        "    elif audience == \"teen\":\n",
        "        print(\"discounted price!\")\n",
        "    else: # audience == \"adult\":\n",
        "        print(\"normal price\")\n",
        "else:\n",
        "    print(\"No such audience, stay at your home!\")"
      ],
      "execution_count": null,
      "outputs": [
        {
          "output_type": "stream",
          "text": [
            "discounted price!\n"
          ],
          "name": "stdout"
        }
      ]
    },
    {
      "cell_type": "markdown",
      "metadata": {
        "id": "jaGbkPz08_K9"
      },
      "source": [
        "# New Section"
      ]
    },
    {
      "cell_type": "code",
      "metadata": {
        "colab": {
          "base_uri": "https://localhost:8080/"
        },
        "id": "KATCzGUw1g0M",
        "outputId": "fe18b651-8c88-490d-8cb1-e625d88ce5ba"
      },
      "source": [
        "for i in {'n1' : 'one', 'n2' : 'two'} : \n",
        "    print(i)"
      ],
      "execution_count": null,
      "outputs": [
        {
          "output_type": "stream",
          "text": [
            "n1\n",
            "n2\n"
          ],
          "name": "stdout"
        }
      ]
    },
    {
      "cell_type": "code",
      "metadata": {
        "id": "TaRhbX0EKQyv"
      },
      "source": [
        ""
      ],
      "execution_count": null,
      "outputs": []
    },
    {
      "cell_type": "code",
      "metadata": {
        "colab": {
          "base_uri": "https://localhost:8080/"
        },
        "id": "D4aFwcM2UF4i",
        "outputId": "1b31e8d3-386b-4cd1-a9c5-336b21fd4725"
      },
      "source": [
        "print('abcdefcdghcd'.split('cd'))"
      ],
      "execution_count": null,
      "outputs": [
        {
          "output_type": "stream",
          "text": [
            "['ab', 'ef', 'gh', '']\n"
          ],
          "name": "stdout"
        }
      ]
    },
    {
      "cell_type": "code",
      "metadata": {
        "colab": {
          "base_uri": "https://localhost:8080/"
        },
        "id": "2ZxcM3_nEmpI",
        "outputId": "1b6e2197-cdcd-4436-b3c9-4aaa805d3e81"
      },
      "source": [
        "print('''it's not a problem using \"triple\" quotes''')"
      ],
      "execution_count": null,
      "outputs": [
        {
          "output_type": "stream",
          "text": [
            "it's not a problem using \"triple\" quotes\n"
          ],
          "name": "stdout"
        }
      ]
    },
    {
      "cell_type": "code",
      "metadata": {
        "colab": {
          "base_uri": "https://localhost:8080/"
        },
        "id": "zkfKqerNFjR_",
        "outputId": "6b69baa5-ddfc-4d39-930f-efdeafb0bd82"
      },
      "source": [
        "numbers = [1, 3, 7, 4, 3, 0, 3, 6, 3]\n",
        "most_common = max(numbers, key = numbers.count)\n",
        "frqnt_num_list = []\n",
        "for i in numbers:\n",
        "    if i == most_common:\n",
        "        frqnt_num_list.append(i)\n",
        "text = \"The most frequent number is {0} and it is repeated {1} times.\".format(most_common, frqnt_num_list.count(i))\n",
        "print (text)"
      ],
      "execution_count": null,
      "outputs": [
        {
          "output_type": "stream",
          "text": [
            "The most frequent number is 3 and it is repeated 4 times.\n"
          ],
          "name": "stdout"
        }
      ]
    },
    {
      "cell_type": "code",
      "metadata": {
        "colab": {
          "base_uri": "https://localhost:8080/"
        },
        "id": "gqeDdQYiegbg",
        "outputId": "f6d62753-85b8-4277-9f16-6edac0a99394"
      },
      "source": [
        "banana_price = 2\n",
        "banana_price = 5\n",
        "print(2*5)"
      ],
      "execution_count": null,
      "outputs": [
        {
          "output_type": "stream",
          "text": [
            "10\n"
          ],
          "name": "stdout"
        }
      ]
    },
    {
      "cell_type": "code",
      "metadata": {
        "colab": {
          "base_uri": "https://localhost:8080/"
        },
        "id": "V0nqf1I1saGR",
        "outputId": "d85a3a75-fb5b-47f4-e273-cb5012946f1e"
      },
      "source": [
        "my_list = ['Joseph', 'Clarusway', 2020]\n",
        "new_list1 = list(my_list)\n",
        "new_list2 = [my_list]\n",
        "\n",
        "print(new_list1)\n",
        "print(len(new_list1))\n",
        "print(new_list2)\n",
        "print(len(new_list2))"
      ],
      "execution_count": null,
      "outputs": [
        {
          "output_type": "stream",
          "text": [
            "['Joseph', 'Clarusway', 2020]\n",
            "3\n",
            "[['Joseph', 'Clarusway', 2020]]\n",
            "1\n"
          ],
          "name": "stdout"
        }
      ]
    },
    {
      "cell_type": "code",
      "metadata": {
        "colab": {
          "base_uri": "https://localhost:8080/"
        },
        "id": "qNncagOe4ljc",
        "outputId": "ecc6b3da-e8b6-434f-b63a-49a2d6d66bfd"
      },
      "source": [
        "\n",
        "a = list(range(11))\n",
        "print(a)"
      ],
      "execution_count": null,
      "outputs": [
        {
          "output_type": "stream",
          "text": [
            "[0, 1, 2, 3, 4, 5, 6, 7, 8, 9, 10]\n"
          ],
          "name": "stdout"
        }
      ]
    },
    {
      "cell_type": "code",
      "metadata": {
        "colab": {
          "base_uri": "https://localhost:8080/"
        },
        "id": "Pwk2EQZ9t8RF",
        "outputId": "e626b23c-6245-42e7-cd31-54faaf80f448"
      },
      "source": [
        "word = \"hello\"\n",
        "w = [word]\n",
        "w = list(word)\n",
        "w = [1, 2, 3, \"another\"]\n",
        "print(w)\n",
        "print(w)\n",
        "print(w)"
      ],
      "execution_count": null,
      "outputs": [
        {
          "output_type": "stream",
          "text": [
            "[1, 2, 3, 'another']\n",
            "[1, 2, 3, 'another']\n",
            "[1, 2, 3, 'another']\n"
          ],
          "name": "stdout"
        }
      ]
    },
    {
      "cell_type": "code",
      "metadata": {
        "colab": {
          "base_uri": "https://localhost:8080/"
        },
        "id": "-roNM69KzKuR",
        "outputId": "1317fd44-cc36-457d-ad03-520c3a2be6e2"
      },
      "source": [
        "text = \"ijfoadsjgoasnas\"\n",
        "print(text.strip(\"tna\"))"
      ],
      "execution_count": null,
      "outputs": [
        {
          "output_type": "stream",
          "text": [
            "ijfoadsjgoasnas\n"
          ],
          "name": "stdout"
        }
      ]
    },
    {
      "cell_type": "code",
      "metadata": {
        "colab": {
          "base_uri": "https://localhost:8080/"
        },
        "id": "5GFhRopx2v-A",
        "outputId": "903ba9be-109d-41ba-acbf-7ed46751be01"
      },
      "source": [
        "odd_numbers = [[11, 13, 15], 17, 19, 21, 23, 25, 27, 29]\n",
        "\n",
        "print(odd_numbers[6])"
      ],
      "execution_count": null,
      "outputs": [
        {
          "output_type": "stream",
          "text": [
            "27\n"
          ],
          "name": "stdout"
        }
      ]
    },
    {
      "cell_type": "code",
      "metadata": {
        "colab": {
          "base_uri": "https://localhost:8080/"
        },
        "id": "PDEjpQ1t3NwR",
        "outputId": "1b124715-b40b-4ebd-ec80-3da893b478c9"
      },
      "source": [
        "fruits = ['apple', 'banana', 'watermelon', 'orange', 'mango', 'avocado']\n",
        "\n",
        "fruit_list = []\n",
        "fruit_list.insert(0, fruits)\n",
        "print(fruit_list)"
      ],
      "execution_count": null,
      "outputs": [
        {
          "output_type": "stream",
          "text": [
            "[['apple', 'banana', 'watermelon', 'orange', 'mango', 'avocado']]\n"
          ],
          "name": "stdout"
        }
      ]
    },
    {
      "cell_type": "code",
      "metadata": {
        "colab": {
          "base_uri": "https://localhost:8080/"
        },
        "id": "x3ZpX5LX5vkS",
        "outputId": "037d6d60-073b-4c13-a259-ded690414ef9"
      },
      "source": [
        "even_numbers = [2, 4, 6, 8, 10, 12, 14, 16, 18, 20]\n",
        "\n",
        "print(even_numbers[4:9])"
      ],
      "execution_count": null,
      "outputs": [
        {
          "output_type": "stream",
          "text": [
            "[10, 12, 14, 16, 18]\n"
          ],
          "name": "stdout"
        }
      ]
    },
    {
      "cell_type": "code",
      "metadata": {
        "colab": {
          "base_uri": "https://localhost:8080/"
        },
        "id": "7-ejH0JN54Fj",
        "outputId": "243cf222-a82a-4df6-c3bb-db0301d0349f"
      },
      "source": [
        "print(len([[12, 34, 56]]))"
      ],
      "execution_count": null,
      "outputs": [
        {
          "output_type": "stream",
          "text": [
            "1\n"
          ],
          "name": "stdout"
        }
      ]
    },
    {
      "cell_type": "code",
      "metadata": {
        "colab": {
          "base_uri": "https://localhost:8080/"
        },
        "id": "ZWaYQprV6FnI",
        "outputId": "e90dd66e-a486-4924-d42e-1b8b268da041"
      },
      "source": [
        "print(len([[12, 34, 56]][0]))"
      ],
      "execution_count": null,
      "outputs": [
        {
          "output_type": "stream",
          "text": [
            "3\n"
          ],
          "name": "stdout"
        }
      ]
    },
    {
      "cell_type": "code",
      "metadata": {
        "colab": {
          "base_uri": "https://localhost:8080/",
          "height": 129
        },
        "id": "3JBUFhD27Hhk",
        "outputId": "079e4af3-ed35-401d-f82e-ba4579bec176"
      },
      "source": [
        "year = int(input(\"Enter a year: \"))\n",
        " if (year%4==0 and year%100!=0 or year%400==0):\n",
        " print(\"TRUE\")\n",
        "else:\n",
        "print(\"FALSE\")"
      ],
      "execution_count": null,
      "outputs": [
        {
          "output_type": "error",
          "ename": "IndentationError",
          "evalue": "ignored",
          "traceback": [
            "\u001b[0;36m  File \u001b[0;32m\"<ipython-input-3-8ca4c6bf2194>\"\u001b[0;36m, line \u001b[0;32m2\u001b[0m\n\u001b[0;31m    if (year%4==0 and year%100!=0 or year%400==0):\u001b[0m\n\u001b[0m    ^\u001b[0m\n\u001b[0;31mIndentationError\u001b[0m\u001b[0;31m:\u001b[0m unexpected indent\n"
          ]
        }
      ]
    },
    {
      "cell_type": "code",
      "metadata": {
        "colab": {
          "base_uri": "https://localhost:8080/"
        },
        "id": "MY9W6chAHdCJ",
        "outputId": "052e2158-f3ad-4c37-ce63-c1ae0a4dd6e7"
      },
      "source": [
        "print(not 0 and 'write me')"
      ],
      "execution_count": null,
      "outputs": [
        {
          "output_type": "stream",
          "text": [
            "write me\n"
          ],
          "name": "stdout"
        }
      ]
    },
    {
      "cell_type": "code",
      "metadata": {
        "colab": {
          "base_uri": "https://localhost:8080/"
        },
        "id": "xmXvSRCpHvRh",
        "outputId": "1b4f2501-7b57-40f9-a87b-4602ea12258e"
      },
      "source": [
        "print(False or {})"
      ],
      "execution_count": null,
      "outputs": [
        {
          "output_type": "stream",
          "text": [
            "{}\n"
          ],
          "name": "stdout"
        }
      ]
    },
    {
      "cell_type": "code",
      "metadata": {
        "colab": {
          "base_uri": "https://localhost:8080/"
        },
        "id": "5voH1u0SlPUX",
        "outputId": "4160e67f-efeb-4e83-d3bd-01d100b3bdb2"
      },
      "source": [
        "str1 = \"JhonDipPeta\"\n",
        "print(str1.strip(\"JhonaPeta\"))"
      ],
      "execution_count": null,
      "outputs": [
        {
          "output_type": "stream",
          "text": [
            "Dip\n"
          ],
          "name": "stdout"
        }
      ]
    },
    {
      "cell_type": "code",
      "metadata": {
        "colab": {
          "base_uri": "https://localhost:8080/"
        },
        "id": "0LKo2s2Mms0X",
        "outputId": "a92ac983-4243-42ad-829f-821ee5fbbd2d"
      },
      "source": [
        "str2 = \"JaSonAy\"\n",
        "print(str2.strip('JaAy'))"
      ],
      "execution_count": null,
      "outputs": [
        {
          "output_type": "stream",
          "text": [
            "Son\n"
          ],
          "name": "stdout"
        }
      ]
    },
    {
      "cell_type": "code",
      "metadata": {
        "colab": {
          "base_uri": "https://localhost:8080/"
        },
        "id": "JclHW2RypHcF",
        "outputId": "ebffda98-d617-448e-8582-0d4766d15664"
      },
      "source": [
        "\n",
        "str=\"......Macroeconomics,...........Derivatives\"\n",
        "#Type your code here.\n",
        "\n",
        "lst = str.split(\",\")\n",
        "ans_1 = lst[0].lstrip(\".\")\n",
        "\n",
        "print(ans_1)"
      ],
      "execution_count": null,
      "outputs": [
        {
          "output_type": "stream",
          "text": [
            "Macroeconomics\n"
          ],
          "name": "stdout"
        }
      ]
    },
    {
      "cell_type": "code",
      "metadata": {
        "colab": {
          "base_uri": "https://localhost:8080/"
        },
        "id": "88zydaqWs10n",
        "outputId": "60f2041f-b1af-417e-b37d-4999254d4bb0"
      },
      "source": [
        "suntime = 'Aruba | Keys | Miami | Myrtle | Daytona'\n",
        "print(suntime.split('|', maxsplit=1)) "
      ],
      "execution_count": null,
      "outputs": [
        {
          "output_type": "stream",
          "text": [
            "['Aruba ', ' Keys | Miami | Myrtle | Daytona']\n"
          ],
          "name": "stdout"
        }
      ]
    },
    {
      "cell_type": "code",
      "metadata": {
        "id": "NAljvpmq3lXa",
        "colab": {
          "base_uri": "https://localhost:8080/",
          "height": 178
        },
        "outputId": "1f42b938-c8de-4cb6-e840-2408b0255cf6"
      },
      "source": [
        "string = \"  Geeks for Geeks   \"\n",
        "print(len(Count(string)))"
      ],
      "execution_count": null,
      "outputs": [
        {
          "output_type": "error",
          "ename": "NameError",
          "evalue": "ignored",
          "traceback": [
            "\u001b[0;31m---------------------------------------------------------------------------\u001b[0m",
            "\u001b[0;31mNameError\u001b[0m                                 Traceback (most recent call last)",
            "\u001b[0;32m<ipython-input-30-c6bd2b508dd6>\u001b[0m in \u001b[0;36m<module>\u001b[0;34m()\u001b[0m\n\u001b[1;32m      1\u001b[0m \u001b[0mstring\u001b[0m \u001b[0;34m=\u001b[0m \u001b[0;34m\"  Geeks for Geeks   \"\u001b[0m\u001b[0;34m\u001b[0m\u001b[0;34m\u001b[0m\u001b[0m\n\u001b[0;32m----> 2\u001b[0;31m \u001b[0mprint\u001b[0m\u001b[0;34m(\u001b[0m\u001b[0mlen\u001b[0m\u001b[0;34m(\u001b[0m\u001b[0mCount\u001b[0m\u001b[0;34m(\u001b[0m\u001b[0mstring\u001b[0m\u001b[0;34m)\u001b[0m\u001b[0;34m)\u001b[0m\u001b[0;34m)\u001b[0m\u001b[0;34m\u001b[0m\u001b[0;34m\u001b[0m\u001b[0m\n\u001b[0m",
            "\u001b[0;31mNameError\u001b[0m: name 'Count' is not defined"
          ]
        }
      ]
    },
    {
      "cell_type": "code",
      "metadata": {
        "colab": {
          "base_uri": "https://localhost:8080/"
        },
        "id": "Cad8UIhZl33z",
        "outputId": "24a042a9-fb4e-4b85-a428-cca8775792ec"
      },
      "source": [
        "source_string = \"interoperability\"\n",
        "print(source_string.strip(\"yi\"))"
      ],
      "execution_count": null,
      "outputs": [
        {
          "output_type": "stream",
          "text": [
            "nteroperabilit\n"
          ],
          "name": "stdout"
        }
      ]
    },
    {
      "cell_type": "code",
      "metadata": {
        "id": "gB3ACtzpf0lD",
        "colab": {
          "base_uri": "https://localhost:8080/"
        },
        "outputId": "562787c7-7b25-4862-e8a2-c9e274398877"
      },
      "source": [
        "warning = 'You must quit smoking!'\n",
        "\n",
        "print(list(warning))"
      ],
      "execution_count": null,
      "outputs": [
        {
          "output_type": "stream",
          "text": [
            "['Y', 'o', 'u', ' ', 'm', 'u', 's', 't', ' ', 'q', 'u', 'i', 't', ' ', 's', 'm', 'o', 'k', 'i', 'n', 'g', '!']\n"
          ],
          "name": "stdout"
        }
      ]
    },
    {
      "cell_type": "code",
      "metadata": {
        "colab": {
          "base_uri": "https://localhost:8080/"
        },
        "id": "iRLWpqqrvmjn",
        "outputId": "ebf882fb-d4bd-4ecb-fe85-e855b0ec8e74"
      },
      "source": [
        "warning = 'You must quit smoking!'\n",
        "\n",
        "print(warning.replace(\"i\", \"+\"))"
      ],
      "execution_count": null,
      "outputs": [
        {
          "output_type": "stream",
          "text": [
            "You must qu+t smok+ng!\n"
          ],
          "name": "stdout"
        }
      ]
    },
    {
      "cell_type": "code",
      "metadata": {
        "colab": {
          "base_uri": "https://localhost:8080/"
        },
        "id": "qvBnTdguhpzz",
        "outputId": "7dd1ffc7-6f89-44ef-c3a8-d73bd0b24b1c"
      },
      "source": [
        "text = 'In God wee trust'\n",
        "text =\"in god we\" \n",
        "print(text, \"trust\")"
      ],
      "execution_count": null,
      "outputs": [
        {
          "output_type": "stream",
          "text": [
            "in god we trust\n"
          ],
          "name": "stdout"
        }
      ]
    },
    {
      "cell_type": "code",
      "metadata": {
        "colab": {
          "base_uri": "https://localhost:8080/"
        },
        "id": "Hn0yv_dTjEFa",
        "outputId": "7322dfc0-9201-487b-d3d6-54bac45af429"
      },
      "source": [
        "sample = f\"{2 ** 3}\"\n",
        "print(sample)"
      ],
      "execution_count": null,
      "outputs": [
        {
          "output_type": "stream",
          "text": [
            "8\n"
          ],
          "name": "stdout"
        }
      ]
    },
    {
      "cell_type": "code",
      "metadata": {
        "id": "YM8O_oqQKKo0",
        "colab": {
          "base_uri": "https://localhost:8080/"
        },
        "outputId": "e5648873-08aa-4041-ffee-88a2c94d39d4"
      },
      "source": [
        "city = \"SARAJEVO\"\n",
        "text = f\"I live in {city.capitalize()}.\"\n",
        "print(text)"
      ],
      "execution_count": null,
      "outputs": [
        {
          "output_type": "stream",
          "text": [
            "I live in Sarajevo.\n"
          ],
          "name": "stdout"
        }
      ]
    },
    {
      "cell_type": "code",
      "metadata": {
        "id": "ykwPuLb0jjo1",
        "colab": {
          "base_uri": "https://localhost:8080/"
        },
        "outputId": "7dd5aebd-7926-4072-ae33-60b68768c0e9"
      },
      "source": [
        "text = \"{0}! I am a {1} programmer and I {2} Clarusway.\".format(\"Hello\", \"new\", \"love\")\n",
        "print(text)"
      ],
      "execution_count": null,
      "outputs": [
        {
          "output_type": "stream",
          "text": [
            "Hello! I am a new programmer and I love Clarusway.\n"
          ],
          "name": "stdout"
        }
      ]
    },
    {
      "cell_type": "code",
      "metadata": {
        "colab": {
          "base_uri": "https://localhost:8080/"
        },
        "id": "6MVaX-yvNACN",
        "outputId": "a6bd09df-d830-4272-92ae-7a4c443fee7c"
      },
      "source": [
        "word = 'clarusway'\n",
        "n = 3\n",
        "front = 'clareew'\n",
        "back = 'rusway'\n",
        "print(front + back)"
      ],
      "execution_count": null,
      "outputs": [
        {
          "output_type": "stream",
          "text": [
            "clareewrusway\n"
          ],
          "name": "stdout"
        }
      ]
    },
    {
      "cell_type": "code",
      "metadata": {
        "colab": {
          "base_uri": "https://localhost:8080/"
        },
        "id": "e5kUJeJk1TnR",
        "outputId": "353acb18-5508-42f8-b92e-46450ce1a9a9"
      },
      "source": [
        "PV = 1000  # Present  Value\n",
        "r = 7  # interest rate\n",
        "n = 7  # number of periods\n",
        "\n",
        "FV = round(PV*(1+r/100)**n, 2)  # Future Value\n",
        "print(FV)"
      ],
      "execution_count": null,
      "outputs": [
        {
          "output_type": "stream",
          "text": [
            "1605.78\n"
          ],
          "name": "stdout"
        }
      ]
    },
    {
      "cell_type": "code",
      "metadata": {
        "colab": {
          "base_uri": "https://localhost:8080/"
        },
        "id": "yZdSOP5X-iOo",
        "outputId": "4a0bf3e1-1d35-4f2c-e8b7-c6b38586e90e"
      },
      "source": [
        "# format() metodunu görmemiş olabilirler. Eğer öyleyse, bu metodu kullanmadan çıktı aldıralım.\n",
        "\n",
        "a=int(input(\"a:\"))\n",
        "b=int(input(\"b:\"))\n",
        "c=int(input(\"c:\"))  # Once int koymadan hepsini yaz ve o şekilde olmadığını göster\n",
        "\n",
        "output = a * b * c\n",
        "\n",
        "print(\"{}*{}*{} = {}\".format(a, b, c, output))\n",
        "print(f\"{a}*{b}*{c} = {output}\")"
      ],
      "execution_count": null,
      "outputs": [
        {
          "output_type": "stream",
          "text": [
            "a:1\n",
            "b:2\n",
            "c:3\n",
            "1*2*3 = 6\n",
            "1*2*3 = 6\n"
          ],
          "name": "stdout"
        }
      ]
    },
    {
      "cell_type": "code",
      "metadata": {
        "colab": {
          "base_uri": "https://localhost:8080/"
        },
        "id": "PCcNgqOA3JWa",
        "outputId": "11939774-b655-4488-fbc1-af8e00b20730"
      },
      "source": [
        "d = 100 #  distance in km\n",
        "t = 2 # time in hours\n",
        "s = d/t #speed in km/h\n",
        "print(s)\n"
      ],
      "execution_count": null,
      "outputs": [
        {
          "output_type": "stream",
          "text": [
            "50.0\n"
          ],
          "name": "stdout"
        }
      ]
    },
    {
      "cell_type": "code",
      "metadata": {
        "colab": {
          "base_uri": "https://localhost:8080/"
        },
        "id": "wt28pBJXDKNZ",
        "outputId": "d412d2d9-1057-428a-8512-c23ddb7c4141"
      },
      "source": [
        "\n",
        "x, y = 4, 3\n",
        "result = x * x - y * y\n",
        "print(\"({} ^ 2 - {} ^ 2) = {}\".format(x, y, result))"
      ],
      "execution_count": null,
      "outputs": [
        {
          "output_type": "stream",
          "text": [
            "(4 ^ 2 - 3 ^ 2) = 7\n"
          ],
          "name": "stdout"
        }
      ]
    },
    {
      "cell_type": "code",
      "metadata": {
        "colab": {
          "base_uri": "https://localhost:8080/"
        },
        "id": "ssXVf9hr7yTO",
        "outputId": "12df7f55-6c49-4aa1-b759-cb8f147f8131"
      },
      "source": [
        "t = 200  # total amount\n",
        "p = 11  # price of a material\n",
        "pieces = t // p\n",
        "output = t % p\n",
        "print(pieces)\n",
        "print (output)"
      ],
      "execution_count": null,
      "outputs": [
        {
          "output_type": "stream",
          "text": [
            "18\n",
            "2\n"
          ],
          "name": "stdout"
        }
      ]
    },
    {
      "cell_type": "code",
      "metadata": {
        "colab": {
          "base_uri": "https://localhost:8080/"
        },
        "id": "GLMs-7LO8Suo",
        "outputId": "2f3eb66e-3062-416e-90a7-311060a6737d"
      },
      "source": [
        "totalMoney = 200\n",
        "materialPrice = 11\n",
        "piece = 200 // 11\n",
        "remainingMoney = totalMoney % piece\n",
        "print(\"With your ${}, {} pieces of material you can get for ${} each.  The remaining money is ${}\".format(totalMoney, piece, materialPrice, remainingMoney))"
      ],
      "execution_count": null,
      "outputs": [
        {
          "output_type": "stream",
          "text": [
            "With your $200, 18 pieces of material you can get for $11 each.  The remaining money is $2\n"
          ],
          "name": "stdout"
        }
      ]
    },
    {
      "cell_type": "code",
      "metadata": {
        "colab": {
          "base_uri": "https://localhost:8080/"
        },
        "id": "Lhl3KeFJ98B4",
        "outputId": "2dda8133-6054-4136-e1aa-3adc7e2ce1f8"
      },
      "source": [
        "a = input(a)\n",
        "b = input(b)\n",
        "print(a,b)\n",
        "a, b = b,a\n",
        "print(a,b)"
      ],
      "execution_count": null,
      "outputs": [
        {
          "output_type": "stream",
          "text": [
            "21\n",
            "22\n",
            "1 2\n",
            "2 1\n"
          ],
          "name": "stdout"
        }
      ]
    },
    {
      "cell_type": "code",
      "metadata": {
        "colab": {
          "base_uri": "https://localhost:8080/"
        },
        "id": "dz2geQQQ-XJm",
        "outputId": "7007b451-c82f-4f88-d12d-47371f9b870a"
      },
      "source": [
        "x = 3\n",
        "y = 4\n",
        "output = (x-y)*(x+y)\n",
        "print(output)"
      ],
      "execution_count": null,
      "outputs": [
        {
          "output_type": "stream",
          "text": [
            "-7\n"
          ],
          "name": "stdout"
        }
      ]
    },
    {
      "cell_type": "code",
      "metadata": {
        "colab": {
          "base_uri": "https://localhost:8080/"
        },
        "id": "sgBf1Puq-rUY",
        "outputId": "0fa7c14c-8bab-4606-99fc-8677bd6756af"
      },
      "source": [
        "\n",
        "a = 2\n",
        "b = 5\n",
        "\n",
        "print(\"Variables Before Replacing\\na= {} b= {}\".format(a, b))\n",
        "\n",
        "a, b = b, a\n",
        "\n",
        "print(\"Variables After Replacing\\na= {} b= {}\".format(a, b))"
      ],
      "execution_count": null,
      "outputs": [
        {
          "output_type": "stream",
          "text": [
            "Variables Before Replacing\n",
            "a= 2 b= 5\n",
            "Variables After Replacing\n",
            "a= 5 b= 2\n"
          ],
          "name": "stdout"
        }
      ]
    },
    {
      "cell_type": "code",
      "metadata": {
        "colab": {
          "base_uri": "https://localhost:8080/"
        },
        "id": "GbcmMrIy-tu2",
        "outputId": "ea089f96-7518-4cf0-9239-f2aae77e6aff"
      },
      "source": [
        "# format() metodunu görmemiş olabilirler. Eğer öyleyse, bu metodu kullanmadan çıktı aldıralım.\n",
        "\n",
        "x, y = 4, 3\n",
        "result = x * x - y * y\n",
        "print(\"({} ^ 2 - {} ^ 2) = {}\".format(x, y, result))"
      ],
      "execution_count": null,
      "outputs": [
        {
          "output_type": "stream",
          "text": [
            "(4 ^ 2 - 3 ^ 2) = 7\n"
          ],
          "name": "stdout"
        }
      ]
    },
    {
      "cell_type": "code",
      "metadata": {
        "colab": {
          "base_uri": "https://localhost:8080/"
        },
        "id": "ZuKtCGwv--5I",
        "outputId": "58de0ec9-afda-48d7-9fa2-14238db0f50a"
      },
      "source": [
        "print(3*'ali/', 'ali', sep = \"\")"
      ],
      "execution_count": null,
      "outputs": [
        {
          "output_type": "stream",
          "text": [
            "ali/ali/ali/ali\n"
          ],
          "name": "stdout"
        }
      ]
    },
    {
      "cell_type": "code",
      "metadata": {
        "colab": {
          "base_uri": "https://localhost:8080/"
        },
        "id": "fGRx5dqoCGKf",
        "outputId": "04f019ab-b9c8-4e74-a438-4aa06d7105d2"
      },
      "source": [
        "word = input()\n",
        "seperator = input()\n",
        "repetitions = int(input())\n",
        "a = (word + seperator) * (repetitions -1) + word # henry/ * 2 = henry/henry/henry\n",
        "print(a)\n",
        "# print(*list([word] * repetitions), sep=seperator)"
      ],
      "execution_count": null,
      "outputs": [
        {
          "output_type": "stream",
          "text": [
            "asdf\n",
            "/\n",
            "4\n",
            "asdf/asdf/asdf/asdf\n"
          ],
          "name": "stdout"
        }
      ]
    },
    {
      "cell_type": "code",
      "metadata": {
        "colab": {
          "base_uri": "https://localhost:8080/",
          "height": 129
        },
        "id": "6RmmsnJqC_cg",
        "outputId": "98d986ea-7b3f-48be-89b0-81db780dccb5"
      },
      "source": [
        "# format() metodunu görmemiş olabilirler. Eğer öyleyse, bu metodu kullanmadan çıktı aldıralım.\n",
        "\n",
        "a=int(input(\"a:\"))\n",
        "b=int(input(\"b:\"))\n",
        "c=int(input(\"c:\"))  # Once int koymadan hepsini yaz ve o şekilde olmadığını göster\n",
        "\n",
        "output = a * b * c\n",
        "\n",
        "print(\"{}*{}*{} = {}\".format(a, b, c, output))\n",
        "print(f\"{a}*{b}*{c} = {output}\""
      ],
      "execution_count": null,
      "outputs": [
        {
          "output_type": "error",
          "ename": "SyntaxError",
          "evalue": "ignored",
          "traceback": [
            "\u001b[0;36m  File \u001b[0;32m\"<ipython-input-2-791dc3ca5a15>\"\u001b[0;36m, line \u001b[0;32m10\u001b[0m\n\u001b[0;31m    print(f\"{a}*{b}*{c} = {output}\"\u001b[0m\n\u001b[0m                                   ^\u001b[0m\n\u001b[0;31mSyntaxError\u001b[0m\u001b[0;31m:\u001b[0m unexpected EOF while parsing\n"
          ]
        }
      ]
    },
    {
      "cell_type": "code",
      "metadata": {
        "colab": {
          "base_uri": "https://localhost:8080/",
          "height": 248
        },
        "id": "Ijw4dlIGjlYJ",
        "outputId": "5899d1c8-5012-4150-a602-b4e9648553d6"
      },
      "source": [
        "a = int(input(\"a:\")) \n",
        "b =int(input(\"b:\"))\n",
        "c= int(input(\"c:\"))\n",
        "print(a*b*c)"
      ],
      "execution_count": null,
      "outputs": [
        {
          "output_type": "stream",
          "text": [
            "a:1\n",
            "b:\n"
          ],
          "name": "stdout"
        },
        {
          "output_type": "error",
          "ename": "ValueError",
          "evalue": "ignored",
          "traceback": [
            "\u001b[0;31m---------------------------------------------------------------------------\u001b[0m",
            "\u001b[0;31mValueError\u001b[0m                                Traceback (most recent call last)",
            "\u001b[0;32m<ipython-input-4-208645f3d7b6>\u001b[0m in \u001b[0;36m<module>\u001b[0;34m()\u001b[0m\n\u001b[1;32m      1\u001b[0m \u001b[0ma\u001b[0m \u001b[0;34m=\u001b[0m \u001b[0mint\u001b[0m\u001b[0;34m(\u001b[0m\u001b[0minput\u001b[0m\u001b[0;34m(\u001b[0m\u001b[0;34m\"a:\"\u001b[0m\u001b[0;34m)\u001b[0m\u001b[0;34m)\u001b[0m\u001b[0;34m\u001b[0m\u001b[0;34m\u001b[0m\u001b[0m\n\u001b[0;32m----> 2\u001b[0;31m \u001b[0mb\u001b[0m \u001b[0;34m=\u001b[0m\u001b[0mint\u001b[0m\u001b[0;34m(\u001b[0m\u001b[0minput\u001b[0m\u001b[0;34m(\u001b[0m\u001b[0;34m\"b:\"\u001b[0m\u001b[0;34m)\u001b[0m\u001b[0;34m)\u001b[0m\u001b[0;34m\u001b[0m\u001b[0;34m\u001b[0m\u001b[0m\n\u001b[0m\u001b[1;32m      3\u001b[0m \u001b[0mc\u001b[0m\u001b[0;34m=\u001b[0m \u001b[0mint\u001b[0m\u001b[0;34m(\u001b[0m\u001b[0minput\u001b[0m\u001b[0;34m(\u001b[0m\u001b[0;34m\"c:\"\u001b[0m\u001b[0;34m)\u001b[0m\u001b[0;34m)\u001b[0m\u001b[0;34m\u001b[0m\u001b[0;34m\u001b[0m\u001b[0m\n\u001b[1;32m      4\u001b[0m \u001b[0mprint\u001b[0m\u001b[0;34m(\u001b[0m\u001b[0ma\u001b[0m\u001b[0;34m*\u001b[0m\u001b[0mb\u001b[0m\u001b[0;34m*\u001b[0m\u001b[0mc\u001b[0m\u001b[0;34m)\u001b[0m\u001b[0;34m\u001b[0m\u001b[0;34m\u001b[0m\u001b[0m\n",
            "\u001b[0;31mValueError\u001b[0m: invalid literal for int() with base 10: ''"
          ]
        }
      ]
    },
    {
      "cell_type": "code",
      "metadata": {
        "colab": {
          "base_uri": "https://localhost:8080/"
        },
        "id": "QHyk5WHu5lQ9",
        "outputId": "f067dd6d-1613-4cf9-ab9c-103857bfe203"
      },
      "source": [
        "print(\"xyyzxyzxzxyy\".count('xyy', 2, 11))\n"
      ],
      "execution_count": null,
      "outputs": [
        {
          "output_type": "stream",
          "text": [
            "0\n"
          ],
          "name": "stdout"
        }
      ]
    },
    {
      "cell_type": "code",
      "metadata": {
        "colab": {
          "base_uri": "https://localhost:8080/"
        },
        "id": "9p16mDt0jmEZ",
        "outputId": "3a1e6c3d-960c-414e-ece9-0be2354676b2"
      },
      "source": [
        "print(3*4*5)"
      ],
      "execution_count": null,
      "outputs": [
        {
          "output_type": "stream",
          "text": [
            "60\n"
          ],
          "name": "stdout"
        }
      ]
    },
    {
      "cell_type": "code",
      "metadata": {
        "colab": {
          "base_uri": "https://localhost:8080/"
        },
        "id": "xdOBfesMjma-",
        "outputId": "c3188da6-fa31-4640-bc19-41046211d8e4"
      },
      "source": [
        "Height = 1.65\n",
        "Weight = 60\n",
        "print(Weight/Height**2)"
      ],
      "execution_count": null,
      "outputs": [
        {
          "output_type": "stream",
          "text": [
            "22.03856749311295\n"
          ],
          "name": "stdout"
        }
      ]
    },
    {
      "cell_type": "code",
      "metadata": {
        "colab": {
          "base_uri": "https://localhost:8080/"
        },
        "id": "2EFb9lbljmo2",
        "outputId": "06221995-9f25-4290-c24f-70dcf750f1d6"
      },
      "source": [
        "height = float(input(\"Enter your height:\"))\n",
        "weight = int(input(\"Enter your weight:\"))\n",
        "print(weight/(height*height))"
      ],
      "execution_count": null,
      "outputs": [
        {
          "output_type": "stream",
          "text": [
            "Enter your height:1.76\n",
            "Enter your weight:64\n",
            "20.66115702479339\n"
          ],
          "name": "stdout"
        }
      ]
    },
    {
      "cell_type": "code",
      "metadata": {
        "colab": {
          "base_uri": "https://localhost:8080/"
        },
        "id": "0Hlni_eIjm0_",
        "outputId": "7de530a9-5906-46a7-d09a-750e8f4554b7"
      },
      "source": [
        "\n",
        "print(200//11)"
      ],
      "execution_count": null,
      "outputs": [
        {
          "output_type": "stream",
          "text": [
            "18\n"
          ],
          "name": "stdout"
        }
      ]
    },
    {
      "cell_type": "code",
      "metadata": {
        "colab": {
          "base_uri": "https://localhost:8080/"
        },
        "id": "aHvg0Yl7jm_M",
        "outputId": "927b935a-0f0d-41f7-ac2b-1738031f572d"
      },
      "source": [
        "print(200 % 11)"
      ],
      "execution_count": null,
      "outputs": [
        {
          "output_type": "stream",
          "text": [
            "2\n"
          ],
          "name": "stdout"
        }
      ]
    },
    {
      "cell_type": "code",
      "metadata": {
        "colab": {
          "base_uri": "https://localhost:8080/"
        },
        "id": "SrUjl8tbjnKp",
        "outputId": "11e3e258-e592-42f4-dbe4-912e03f396cc"
      },
      "source": [
        "a = 2\n",
        "b = 4\n",
        "print(a,b)\n",
        "a,b = b,a\n",
        "print(a,b)"
      ],
      "execution_count": null,
      "outputs": [
        {
          "output_type": "stream",
          "text": [
            "2 4\n",
            "4 2\n"
          ],
          "name": "stdout"
        }
      ]
    },
    {
      "cell_type": "code",
      "metadata": {
        "colab": {
          "base_uri": "https://localhost:8080/"
        },
        "id": "GNTCpEdWvzGM",
        "outputId": "8ff5ea55-2040-475c-ba59-754f4d1495b2"
      },
      "source": [
        "# format() metodunu görmemiş olabilirler. Eğer öyleyse, bu metodu kullanmadan çıktı aldıralım.\n",
        "\n",
        "a = 2\n",
        "b = 5\n",
        "\n",
        "print(\"Variables Before Replacing\\na= {} b= {}\".format(a, b))\n",
        "\n",
        "a, b = b, a\n",
        "\n",
        "print(\"Variables After Replacing\\na= {} b= {}\".format(a, b))"
      ],
      "execution_count": null,
      "outputs": [
        {
          "output_type": "stream",
          "text": [
            "Variables Before Replacing\n",
            "a= 2 b= 5\n",
            "Variables After Replacing\n",
            "a= 5 b= 2\n"
          ],
          "name": "stdout"
        }
      ]
    },
    {
      "cell_type": "code",
      "metadata": {
        "colab": {
          "base_uri": "https://localhost:8080/"
        },
        "id": "5fMjGfYawOS_",
        "outputId": "d0c194c5-9ded-4760-f809-833b7703e450"
      },
      "source": [
        "x = 6\n",
        "y = 5\n",
        "print(x**2-y**2)"
      ],
      "execution_count": null,
      "outputs": [
        {
          "output_type": "stream",
          "text": [
            "11\n"
          ],
          "name": "stdout"
        }
      ]
    },
    {
      "cell_type": "code",
      "metadata": {
        "colab": {
          "base_uri": "https://localhost:8080/"
        },
        "id": "0N58PXvhxFT0",
        "outputId": "ff7c9799-7270-419e-d199-5cab153675be"
      },
      "source": [
        "# format() metodunu görmemiş olabilirler. Eğer öyleyse, bu metodu kullanmadan çıktı aldıralım.\n",
        "\n",
        "x, y = 4, 3\n",
        "result = x * x - y * y\n",
        "print(\"({} ^ 2 - {} ^ 2) = {}\".format(x, y, result))"
      ],
      "execution_count": null,
      "outputs": [
        {
          "output_type": "stream",
          "text": [
            "(4 ^ 2 - 3 ^ 2) = 7\n"
          ],
          "name": "stdout"
        }
      ]
    },
    {
      "cell_type": "code",
      "metadata": {
        "colab": {
          "base_uri": "https://localhost:8080/"
        },
        "id": "DBN_UDmGxWQb",
        "outputId": "6723d7a2-db1a-49e9-d0ff-d3402a4be2f8"
      },
      "source": [
        "print(4*'cat', 'dog', sep = \"/\")"
      ],
      "execution_count": null,
      "outputs": [
        {
          "output_type": "stream",
          "text": [
            "catcatcatcat/dog\n"
          ],
          "name": "stdout"
        }
      ]
    },
    {
      "cell_type": "code",
      "metadata": {
        "colab": {
          "base_uri": "https://localhost:8080/"
        },
        "id": "VwSn7jhDx3gn",
        "outputId": "c333bffb-c882-4f7e-d525-c345627be08e"
      },
      "source": [
        "word = input(\"Word: \")\n",
        "seperator = input(\"Seperator: \")\n",
        "repetitions = int(input(\"repetitions: \"))\n",
        "a = (word + seperator) * (repetitions -1) + word # henry/ * 2 = henry/henry/henry\n",
        "print(a)\n",
        "# print(*list([word] * repetitions), sep=seperator)"
      ],
      "execution_count": null,
      "outputs": [
        {
          "output_type": "stream",
          "text": [
            "Word: cat\n",
            "Seperator: /\n",
            "repetitions: 5\n",
            "cat/cat/cat/cat/cat\n"
          ],
          "name": "stdout"
        }
      ]
    },
    {
      "cell_type": "code",
      "metadata": {
        "colab": {
          "base_uri": "https://localhost:8080/"
        },
        "id": "j64A6NVDyp75",
        "outputId": "a0a0f818-8aca-42dd-af0b-b8ab42bc3b1d"
      },
      "source": [
        "print(False)\n"
      ],
      "execution_count": null,
      "outputs": [
        {
          "output_type": "stream",
          "text": [
            "False\n"
          ],
          "name": "stdout"
        }
      ]
    },
    {
      "cell_type": "code",
      "metadata": {
        "colab": {
          "base_uri": "https://localhost:8080/"
        },
        "id": "_Lbqz7Yj0DZY",
        "outputId": "8efb84dd-277f-4428-fc35-a1223e38dc2f"
      },
      "source": [
        "print(True and False and (not True and False) and not (True or False))\n"
      ],
      "execution_count": null,
      "outputs": [
        {
          "output_type": "stream",
          "text": [
            "False\n"
          ],
          "name": "stdout"
        }
      ]
    },
    {
      "cell_type": "code",
      "metadata": {
        "colab": {
          "base_uri": "https://localhost:8080/"
        },
        "id": "FtPrx2Ae1S6a",
        "outputId": "fe623f8e-4431-4371-c99d-a845b8f1ad0a"
      },
      "source": [
        "print( False) \n"
      ],
      "execution_count": null,
      "outputs": [
        {
          "output_type": "stream",
          "text": [
            "False\n"
          ],
          "name": "stdout"
        }
      ]
    },
    {
      "cell_type": "code",
      "metadata": {
        "colab": {
          "base_uri": "https://localhost:8080/"
        },
        "id": "7C6H4AZF2Pmc",
        "outputId": "b23c5d17-c444-4492-8cb3-4edfc018d2ce"
      },
      "source": [
        "print(True and False and not \"False\" and None and (\"None\" or None))\n"
      ],
      "execution_count": null,
      "outputs": [
        {
          "output_type": "stream",
          "text": [
            "False\n"
          ],
          "name": "stdout"
        }
      ]
    },
    {
      "cell_type": "code",
      "metadata": {
        "id": "nZOYTb692TuI"
      },
      "source": [
        "print( 0 )"
      ],
      "execution_count": null,
      "outputs": []
    },
    {
      "cell_type": "code",
      "metadata": {
        "id": "14_hFjMz3Ffp",
        "colab": {
          "base_uri": "https://localhost:8080/"
        },
        "outputId": "276c36ff-88e2-48b3-f03e-3a7b1712ea45"
      },
      "source": [
        "print(\"clarusway\" and 0 and not \"\" and False and (\" \" or None))"
      ],
      "execution_count": null,
      "outputs": [
        {
          "output_type": "stream",
          "text": [
            "0\n"
          ],
          "name": "stdout"
        }
      ]
    },
    {
      "cell_type": "code",
      "metadata": {
        "colab": {
          "base_uri": "https://localhost:8080/"
        },
        "id": "8fqMY1XxpcpV",
        "outputId": "1ba71763-98c4-4a33-e3e8-ead261bedb3d"
      },
      "source": [
        "print({0} and False or [])"
      ],
      "execution_count": null,
      "outputs": [
        {
          "output_type": "stream",
          "text": [
            "[]\n"
          ],
          "name": "stdout"
        }
      ]
    },
    {
      "cell_type": "code",
      "metadata": {
        "colab": {
          "base_uri": "https://localhost:8080/"
        },
        "id": "uE9T44gtp-3b",
        "outputId": "15876a8c-6776-47ef-b613-8cf65c193c4f"
      },
      "source": [
        "print('hello-' + 'how-are-you')\n"
      ],
      "execution_count": null,
      "outputs": [
        {
          "output_type": "stream",
          "text": [
            "hello-how-are-you\n"
          ],
          "name": "stdout"
        }
      ]
    },
    {
      "cell_type": "code",
      "metadata": {
        "id": "JA5dZfnTAid4"
      },
      "source": [
        ""
      ],
      "execution_count": null,
      "outputs": []
    },
    {
      "cell_type": "code",
      "metadata": {
        "id": "lcMXP91sAirT"
      },
      "source": [
        ""
      ],
      "execution_count": null,
      "outputs": []
    },
    {
      "cell_type": "code",
      "metadata": {
        "id": "JyrvQONHAi1B"
      },
      "source": [
        ""
      ],
      "execution_count": null,
      "outputs": []
    },
    {
      "cell_type": "code",
      "metadata": {
        "id": "uNhrifzUAi67"
      },
      "source": [
        ""
      ],
      "execution_count": null,
      "outputs": []
    },
    {
      "cell_type": "code",
      "metadata": {
        "colab": {
          "base_uri": "https://localhost:8080/"
        },
        "id": "njWv5CMZAi-G",
        "outputId": "213b6421-daf2-4628-c488-b194f53096d6"
      },
      "source": [
        "5!=5"
      ],
      "execution_count": null,
      "outputs": [
        {
          "output_type": "execute_result",
          "data": {
            "text/plain": [
              "False"
            ]
          },
          "metadata": {
            "tags": []
          },
          "execution_count": 7
        }
      ]
    },
    {
      "cell_type": "code",
      "metadata": {
        "colab": {
          "base_uri": "https://localhost:8080/"
        },
        "id": "TlzNfWTFNznm",
        "outputId": "dc7be55f-a703-4618-cf19-d8eef12541e8"
      },
      "source": [
        "print('hello', '-how', 'are', '-you')"
      ],
      "execution_count": null,
      "outputs": [
        {
          "output_type": "stream",
          "text": [
            "hello -how are -you\n"
          ],
          "name": "stdout"
        }
      ]
    },
    {
      "cell_type": "code",
      "metadata": {
        "colab": {
          "base_uri": "https://localhost:8080/"
        },
        "id": "snZklnfMAjBk",
        "outputId": "2636b129-1867-48e7-9b9f-00d5d8ccbce3"
      },
      "source": [
        "print('hello', 'how', 'are-', 'you' + '-' * 4)"
      ],
      "execution_count": null,
      "outputs": [
        {
          "output_type": "stream",
          "text": [
            "hello how are- you----\n"
          ],
          "name": "stdout"
        }
      ]
    },
    {
      "cell_type": "code",
      "metadata": {
        "colab": {
          "base_uri": "https://localhost:8080/"
        },
        "id": "lRfeq-JaOPmN",
        "outputId": "420599e2-4fb6-4048-abe7-b83142df0bbf"
      },
      "source": [
        "print('hello-' + 'how-are-you')\n"
      ],
      "execution_count": null,
      "outputs": [
        {
          "output_type": "stream",
          "text": [
            "hello-how-are-you\n"
          ],
          "name": "stdout"
        }
      ]
    },
    {
      "cell_type": "code",
      "metadata": {
        "colab": {
          "base_uri": "https://localhost:8080/"
        },
        "id": "lJxTZciMOT2F",
        "outputId": "636cfc65-763e-4d0d-831e-95e25927afe9"
      },
      "source": [
        "print('hello' + '-' + 'how' + '-' + 'are' + 'you')"
      ],
      "execution_count": null,
      "outputs": [
        {
          "output_type": "stream",
          "text": [
            "hello-how-areyou\n"
          ],
          "name": "stdout"
        }
      ]
    },
    {
      "cell_type": "code",
      "metadata": {
        "colab": {
          "base_uri": "https://localhost:8080/"
        },
        "id": "1fZdjNTl_GPR",
        "outputId": "30ccd986-03ba-40d5-c534-d4ce68ad7dac"
      },
      "source": [
        "city = 'Phoenix'\n",
        "\n",
        "print(city[::-3])"
      ],
      "execution_count": null,
      "outputs": [
        {
          "output_type": "stream",
          "text": [
            "xeP\n"
          ],
          "name": "stdout"
        }
      ]
    },
    {
      "cell_type": "code",
      "metadata": {
        "colab": {
          "base_uri": "https://localhost:8080/"
        },
        "id": "nVZYB5MMacvS",
        "outputId": "ceb1bec8-4a2d-4bb9-b2cc-761b3f74d684"
      },
      "source": [
        "Celsius = float(input(\":\"))\n",
        "Fahrenheit = float(9/5 * Celsius + 32)\n",
        "print(Fahrenheit)"
      ],
      "execution_count": null,
      "outputs": [
        {
          "output_type": "stream",
          "text": [
            ":54\n",
            "129.2\n"
          ],
          "name": "stdout"
        }
      ]
    },
    {
      "cell_type": "code",
      "metadata": {
        "colab": {
          "base_uri": "https://localhost:8080/"
        },
        "id": "zMTJ0YUWXMut",
        "outputId": "37f8b1bc-f880-40fd-bc58-8e41aa1a4b13"
      },
      "source": [
        "PV = 1000  # Present  Value\n",
        "r = 7  # interest rate\n",
        "n = 7  # number of periods\n",
        "FV = round(PV*(1+0.07)**, 2)  # Future Value\n",
        "print(FV)"
      ],
      "execution_count": null,
      "outputs": [
        {
          "output_type": "stream",
          "text": [
            "1605.78\n"
          ],
          "name": "stdout"
        }
      ]
    },
    {
      "cell_type": "code",
      "metadata": {
        "colab": {
          "base_uri": "https://localhost:8080/"
        },
        "id": "bKKG3lL5cnjZ",
        "outputId": "a0b82594-a433-4c32-b4a5-18ee1e30da52"
      },
      "source": [
        "Km = float(input(\":\"))\n",
        "Miles = float(Km/1.609)\n",
        "print(Miles)"
      ],
      "execution_count": null,
      "outputs": [
        {
          "output_type": "stream",
          "text": [
            ":1\n",
            "0.6215040397762586\n"
          ],
          "name": "stdout"
        }
      ]
    },
    {
      "cell_type": "code",
      "metadata": {
        "colab": {
          "base_uri": "https://localhost:8080/"
        },
        "id": "FvEf7nkvKMHK",
        "outputId": "6a36176a-fe38-4858-daf9-a7fef00e4fa9"
      },
      "source": [
        "# F = (0°C × 9/5) + 32 = 32°F\n",
        "Celcian = float(input(\"\"))\n",
        "Fahrenheit = float(9/5 * Celcian + 32)\n",
        "print(Fahrenheit)"
      ],
      "execution_count": null,
      "outputs": [
        {
          "output_type": "stream",
          "text": [
            "54\n",
            "129.2\n"
          ],
          "name": "stdout"
        }
      ]
    },
    {
      "cell_type": "code",
      "metadata": {
        "colab": {
          "base_uri": "https://localhost:8080/"
        },
        "id": "gW21jsbhKieK",
        "outputId": "30e31eae-f80d-4800-9bda-6724d6905320"
      },
      "source": [
        "# km = mi / 0.62137\n",
        "Mi = float(input(\"\"))\n",
        "Km = float(Mi / 0.62137)\n",
        "print(Km)"
      ],
      "execution_count": null,
      "outputs": [
        {
          "output_type": "stream",
          "text": [
            "1\n",
            "1.6093470878864444\n"
          ],
          "name": "stdout"
        }
      ]
    },
    {
      "cell_type": "code",
      "metadata": {
        "colab": {
          "base_uri": "https://localhost:8080/"
        },
        "id": "hhK-OIlBOY6s",
        "outputId": "984a00e2-cb2a-4f2b-aa9e-452e1db38d23"
      },
      "source": [
        "website = 'www.youtube.com'\n",
        "print(website.endswith('.com'))\n",
        "print(website.startswith('www.'))"
      ],
      "execution_count": null,
      "outputs": [
        {
          "output_type": "stream",
          "text": [
            "True\n",
            "True\n"
          ],
          "name": "stdout"
        }
      ]
    },
    {
      "cell_type": "code",
      "metadata": {
        "colab": {
          "base_uri": "https://localhost:8080/"
        },
        "id": "Neoe86scYe6e",
        "outputId": "dfb985db-e5a2-46da-8c4e-5e92769f1ba4"
      },
      "source": [
        "phrase = \"myemailaddress@clarusway.com\"\n",
        "\n",
        "print(len(phrase))\n",
        "print(phrase.startswith(\"@\", 14))\n",
        "print(phrase.endswith(\".\", 15, 24))"
      ],
      "execution_count": null,
      "outputs": [
        {
          "output_type": "stream",
          "text": [
            "28\n",
            "True\n",
            "False\n"
          ],
          "name": "stdout"
        }
      ]
    },
    {
      "cell_type": "code",
      "metadata": {
        "colab": {
          "base_uri": "https://localhost:8080/"
        },
        "id": "N9_EO3mA2Wyk",
        "outputId": "f167d0bd-82d7-4493-cd2a-6d31251bff15"
      },
      "source": [
        "print(\"Actions speaks louder than words\".upper())"
      ],
      "execution_count": null,
      "outputs": [
        {
          "output_type": "stream",
          "text": [
            "ACTIONS SPEAKS LOUDER THAN WORDS\n"
          ],
          "name": "stdout"
        }
      ]
    },
    {
      "cell_type": "code",
      "metadata": {
        "colab": {
          "base_uri": "https://localhost:8080/"
        },
        "id": "OpwtjkU9EL6Q",
        "outputId": "668879ca-8adb-44b6-a30d-74ff500f12fe"
      },
      "source": [
        "age = int(input('Please enter a persons age:'))\n",
        "if age > 75: print(bool('yes'))\n",
        "else: print(bool(''))\n",
        "\n",
        "def chronic() :\n",
        "  return True\n",
        "\n",
        "if chronic():\n",
        "  print(\"YES!\")\n",
        "else:\n",
        "  print(\"NO!\")\n",
        "\n",
        "def chronic(yes) :\n",
        "  return True\n",
        "\n",
        "if chronic(input(\":\")):\n",
        "  print(\"yes\")\n"
      ],
      "execution_count": null,
      "outputs": [
        {
          "output_type": "stream",
          "text": [
            "Please enter a persons age:33\n",
            "False\n",
            "YES!\n",
            ":dd\n",
            "yes\n"
          ],
          "name": "stdout"
        }
      ]
    },
    {
      "cell_type": "code",
      "metadata": {
        "colab": {
          "base_uri": "https://localhost:8080/"
        },
        "id": "JcKxGQoBl8Zs",
        "outputId": "0bbcd3c6-5672-4f22-ebbc-b8f1c1e0519b"
      },
      "source": [
        "age =  input(\"Are you a cigarette addict older than 75 years old?:\").lower().strip() # can be assigned only True/False\n",
        "chronic = input(\"Do you have a severe chronic disease?:\").lower().strip()  # can be assigned only True/False\n",
        "immune =  input(\"Is your immune system too weak?:\").lower().strip()  # can be assigned only True/False\n",
        "risk = age or chronic or immune \n",
        "if age == \"yes\" or chronic == \"yes\" or immune == \"yes\":\n",
        "  print(True)\n",
        "else:\n",
        "  print(False)\n",
        " "
      ],
      "execution_count": null,
      "outputs": [
        {
          "output_type": "stream",
          "text": [
            "Are you a cigarette addict older than 75 years old?:fghfg\n",
            "Do you have a severe chronic disease?:fghf\n",
            "Is your immune system too weak?:ere\n",
            "False\n"
          ],
          "name": "stdout"
        }
      ]
    },
    {
      "cell_type": "code",
      "metadata": {
        "colab": {
          "base_uri": "https://localhost:8080/"
        },
        "id": "ZrnOBOeJGGEU",
        "outputId": "afcb4553-d4f3-43ba-ca0d-4a5b822ae24a"
      },
      "source": [
        "age =  input(\"Are you a cigarette addict older than 75 years old?:\").lower().strip()  # can be assigned only Yes/No\n",
        "chronic = input(\"Do you have a severe chronic disease?:\").lower().strip()  # can be assigned only Yes/No\n",
        "immune =  input(\"Is your immune system too weak?:\").lower().strip()  # can be assigned only Yes/No\n",
        "risk =  age == \"yes\" or chronic == \"yes\" or immune == \"yes\"\n",
        "if risk:\n",
        "  risk_value = True\n",
        "else:\n",
        "  risk_value = False\n",
        "print(risk_value)  # True (there is a risk of death) or False (there is not a risk of death)"
      ],
      "execution_count": null,
      "outputs": [
        {
          "output_type": "stream",
          "text": [
            "Are you a cigarette addict older than 75 years old?:yes\n",
            "Do you have a severe chronic disease?:yes\n",
            "Is your immune system too weak?:no\n",
            "True\n"
          ],
          "name": "stdout"
        }
      ]
    },
    {
      "cell_type": "code",
      "metadata": {
        "colab": {
          "base_uri": "https://localhost:8080/"
        },
        "id": "uEDJkzMWDRw2",
        "outputId": "d7703ee6-c36c-4668-eb40-686a48adf5b7"
      },
      "source": [
        "age =  int(input(\"Are you a cigarette addict older than 75 years old?:\")) # can be assigned only 0/1\n",
        "chronic = int(input(\"Do you have a severe chronic disease?:\"))  # can be assigned only 0/1\n",
        "immune =  int(input(\"Is your immune system too weak?:\"))  # can be assigned only 0/1\n",
        "risk = age or chronic or immune \n",
        "print(bool(risk))\n",
        "\n"
      ],
      "execution_count": null,
      "outputs": [
        {
          "output_type": "stream",
          "text": [
            "Are you a cigarette addict older than 75 years old?:0\n",
            "Do you have a severe chronic disease?:0\n",
            "Is your immune system too weak?:1\n",
            "True\n"
          ],
          "name": "stdout"
        }
      ]
    },
    {
      "cell_type": "code",
      "metadata": {
        "colab": {
          "base_uri": "https://localhost:8080/",
          "height": 129
        },
        "id": "BQcaZFe_u724",
        "outputId": "210083ac-f5c8-4b2c-ab33-866f84a5d98c"
      },
      "source": [
        "age =  (input(\"Any input for True or empty for False:\")) # can be assigned only True/False\n",
        "if age == \"true\":\n",
        "boolValue = True\n",
        "elif age == \"false\":\n",
        "boolValue = False\n",
        "else:\n",
        "  print(\"ERROR\")\n",
        "  print(boolValue)\n",
        "chronic = bool(input(\"Any input for True or empty for False:\"))# can be assigned only True/False\n",
        "immune =  bool(input(\"Any input for True or empty for False:\"))# can be assigned only True/False\n",
        "risk = age and chronic and immune \n",
        "print(risk)\n",
        " "
      ],
      "execution_count": null,
      "outputs": [
        {
          "output_type": "error",
          "ename": "IndentationError",
          "evalue": "ignored",
          "traceback": [
            "\u001b[0;36m  File \u001b[0;32m\"<ipython-input-5-b214b6544bc9>\"\u001b[0;36m, line \u001b[0;32m3\u001b[0m\n\u001b[0;31m    boolValue = True\u001b[0m\n\u001b[0m            ^\u001b[0m\n\u001b[0;31mIndentationError\u001b[0m\u001b[0;31m:\u001b[0m expected an indented block\n"
          ]
        }
      ]
    },
    {
      "cell_type": "code",
      "metadata": {
        "colab": {
          "base_uri": "https://localhost:8080/"
        },
        "id": "rcYHIktTx473",
        "outputId": "7b680703-9653-4ae4-dd23-18443584ffeb"
      },
      "source": [
        "# Program checks if the number is positive or negative\n",
        "# And displays an appropriate message\n",
        "\n",
        "num = 3\n",
        "\n",
        "# Try these two variations as well. \n",
        "# num = -5\n",
        "# num = 0\n",
        "\n",
        "if num >= 0:\n",
        "    print(\"Positive or Zero\")\n",
        "else:\n",
        "    print(\"Negative number\")"
      ],
      "execution_count": null,
      "outputs": [
        {
          "output_type": "stream",
          "text": [
            "Positive or Zero\n"
          ],
          "name": "stdout"
        }
      ]
    },
    {
      "cell_type": "code",
      "metadata": {
        "colab": {
          "base_uri": "https://localhost:8080/",
          "height": 129
        },
        "id": "RFXPb31xsnQH",
        "outputId": "1d7c5523-fd76-4b00-d74d-ef891f8c46d0"
      },
      "source": [
        "if chronic = yes:\n",
        "  print(bool(\"yes\"))\n",
        "elif chronic = no\n",
        "  print(bool(\"\"))"
      ],
      "execution_count": null,
      "outputs": [
        {
          "output_type": "error",
          "ename": "SyntaxError",
          "evalue": "ignored",
          "traceback": [
            "\u001b[0;36m  File \u001b[0;32m\"<ipython-input-85-0d95e2603589>\"\u001b[0;36m, line \u001b[0;32m1\u001b[0m\n\u001b[0;31m    if chronic = yes:\u001b[0m\n\u001b[0m               ^\u001b[0m\n\u001b[0;31mSyntaxError\u001b[0m\u001b[0;31m:\u001b[0m invalid syntax\n"
          ]
        }
      ]
    },
    {
      "cell_type": "code",
      "metadata": {
        "colab": {
          "base_uri": "https://localhost:8080/"
        },
        "id": "GjKYecynaU4B",
        "outputId": "55e24de2-fd30-4231-a99d-668df57d1ffd"
      },
      "source": [
        "age = True or False\n",
        "risk = age\n",
        "print(risk)\n",
        "age = True and False\n",
        "risk = age\n",
        "print(risk)\n",
        "chronic = True or False\n",
        "risk = chronic\n",
        "print(risk)\n",
        "immune = True or False\n",
        "risk =immune\n",
        "print(risk)\n",
        "risk = age or chronic or immune\n",
        "print(risk)"
      ],
      "execution_count": null,
      "outputs": [
        {
          "output_type": "stream",
          "text": [
            "True\n",
            "False\n",
            "True\n",
            "True\n",
            "True\n"
          ],
          "name": "stdout"
        }
      ]
    },
    {
      "cell_type": "code",
      "metadata": {
        "colab": {
          "base_uri": "https://localhost:8080/"
        },
        "id": "1EGzQbdfZqQr",
        "outputId": "fcc3c7e2-e30e-430c-9911-a606bf5bd725"
      },
      "source": [
        "def chronic() :\n",
        "  return True\n",
        "\n",
        "if chronic():\n",
        "  print((\"YES!\"))\n",
        "  print((\"NO!\"))"
      ],
      "execution_count": null,
      "outputs": [
        {
          "output_type": "stream",
          "text": [
            "YES!\n",
            "NO!\n"
          ],
          "name": "stdout"
        }
      ]
    },
    {
      "cell_type": "code",
      "metadata": {
        "colab": {
          "base_uri": "https://localhost:8080/"
        },
        "id": "6JBtuk_QFg6O",
        "outputId": "1e82fc70-7603-4645-86b2-cee0ea3bfe3e"
      },
      "source": [
        "total = 100\n",
        "#country = \"US\"\n",
        "country = \"AU\"\n",
        "if country == \"US\":\n",
        "    if total <= 50:\n",
        "        print((\"Shipping Cost is  $50\"))\n",
        "elif total <= 100:\n",
        "        print((\"Shipping Cost is $25\"))\n",
        "elif total <= 150:\n",
        "\t    print(\"Shipping Costs $5\")\n",
        "else:\n",
        "        print(\"FREE\")\n",
        "if country == \"AU\": \n",
        "\t  if total <= 50:\n",
        "\t    print(\"Shipping Cost is  $100\")\n",
        "else:\n",
        "\t    print(\"FREE\")"
      ],
      "execution_count": null,
      "outputs": [
        {
          "output_type": "stream",
          "text": [
            "Shipping Cost is $25\n"
          ],
          "name": "stdout"
        }
      ]
    },
    {
      "cell_type": "code",
      "metadata": {
        "colab": {
          "base_uri": "https://localhost:8080/"
        },
        "id": "35LQ33a9hlUB",
        "outputId": "22105cfb-5e04-469c-cac3-8907c8578746"
      },
      "source": [
        "warning = 'You must quit smoking!'\n",
        "\n",
        "print(len(list(warning)))"
      ],
      "execution_count": null,
      "outputs": [
        {
          "output_type": "stream",
          "text": [
            "22\n"
          ],
          "name": "stdout"
        }
      ]
    },
    {
      "cell_type": "code",
      "metadata": {
        "colab": {
          "base_uri": "https://localhost:8080/"
        },
        "id": "aatNgqqJmJGp",
        "outputId": "9c67742f-07fb-4ac3-e586-edb26cd9fe27"
      },
      "source": [
        "warning = 'You must quit smoking!'\n",
        "\n",
        "print(len(warning))"
      ],
      "execution_count": null,
      "outputs": [
        {
          "output_type": "stream",
          "text": [
            "22\n"
          ],
          "name": "stdout"
        }
      ]
    },
    {
      "cell_type": "code",
      "metadata": {
        "id": "HF1htOPfmbAg",
        "colab": {
          "base_uri": "https://localhost:8080/"
        },
        "outputId": "de9f0bc5-e366-4411-b6c4-2b25895c4008"
      },
      "source": [
        "warning = ['You must quit smoking!']\n",
        "\n",
        "print(len(list(warning)))"
      ],
      "execution_count": null,
      "outputs": [
        {
          "output_type": "stream",
          "text": [
            "1\n"
          ],
          "name": "stdout"
        }
      ]
    },
    {
      "cell_type": "code",
      "metadata": {
        "colab": {
          "base_uri": "https://localhost:8080/"
        },
        "id": "-nde-6mWmP2g",
        "outputId": "694cea18-0319-421b-e79f-3abd97c640a9"
      },
      "source": [
        "city = ['Addis Ababa', 'Istanbul', 'New York', 'Seoul', 'Stockholm', 'Sydney']\n",
        "print(len(city))"
      ],
      "execution_count": null,
      "outputs": [
        {
          "output_type": "stream",
          "text": [
            "6\n"
          ],
          "name": "stdout"
        }
      ]
    },
    {
      "cell_type": "code",
      "metadata": {
        "colab": {
          "base_uri": "https://localhost:8080/"
        },
        "id": "Hvk3a3esFhFD",
        "outputId": "453b3f56-a950-497b-f554-a9e032fedc84"
      },
      "source": [
        " (print_and_true)\n",
        "print(bool(\"print_and_true called\"))\n",
        "\n",
        "\n"
      ],
      "execution_count": null,
      "outputs": [
        {
          "output_type": "stream",
          "text": [
            "True\n"
          ],
          "name": "stdout"
        }
      ]
    },
    {
      "cell_type": "code",
      "metadata": {
        "colab": {
          "base_uri": "https://localhost:8080/"
        },
        "id": "WQvzGVhc0THe",
        "outputId": "b91c5065-7063-4949-df0c-9d379cb06640"
      },
      "source": [
        "age =  True# can be assigned only True/False\n",
        "chronic = True # can be assigned only True/False\n",
        "immune =  True# can be assigned only True/False\n",
        "risk = age and chronic and immune \n",
        "print(risk)\n",
        "\n",
        "age =  False# can be assigned only True/False\n",
        "chronic = True # can be assigned only True/False\n",
        "immune =  True# can be assigned only True/False\n",
        "risk = age and chronic and immune\n",
        "print(risk)"
      ],
      "execution_count": null,
      "outputs": [
        {
          "output_type": "stream",
          "text": [
            "True\n",
            "False\n"
          ],
          "name": "stdout"
        }
      ]
    },
    {
      "cell_type": "code",
      "metadata": {
        "colab": {
          "base_uri": "https://localhost:8080/"
        },
        "id": "1lcc2C1Z4m0e",
        "outputId": "e094c912-a2bd-4eae-9004-c2376cddb7b1"
      },
      "source": [
        "print(chr(ord('b')+1))"
      ],
      "execution_count": null,
      "outputs": [
        {
          "output_type": "stream",
          "text": [
            "c\n"
          ],
          "name": "stdout"
        }
      ]
    },
    {
      "cell_type": "code",
      "metadata": {
        "colab": {
          "base_uri": "https://localhost:8080/"
        },
        "id": "8-K889xbPizg",
        "outputId": "fd72c7d9-31dd-41fa-fe45-763b8ea39ed9"
      },
      "source": [
        "print('*', \"abcdef\".center(7), '*')"
      ],
      "execution_count": null,
      "outputs": [
        {
          "output_type": "stream",
          "text": [
            "*  abcdef *\n"
          ],
          "name": "stdout"
        }
      ]
    },
    {
      "cell_type": "code",
      "metadata": {
        "colab": {
          "base_uri": "https://localhost:8080/"
        },
        "id": "-UISmXduQS3-",
        "outputId": "309e7122-292a-404b-f45d-287c71c085b9"
      },
      "source": [
        "print(\"xyyzxyzxzxyy\".count('yy', 1))"
      ],
      "execution_count": null,
      "outputs": [
        {
          "output_type": "stream",
          "text": [
            "2\n"
          ],
          "name": "stdout"
        }
      ]
    },
    {
      "cell_type": "code",
      "metadata": {
        "colab": {
          "base_uri": "https://localhost:8080/"
        },
        "id": "iAbfvzWgRoOF",
        "outputId": "ece0c88a-3a6b-4832-81bb-3eb3e40c0ecf"
      },
      "source": [
        "print(\"xyyzxyzxzxyy\".endswith(\"xyy\", 0, 2))"
      ],
      "execution_count": null,
      "outputs": [
        {
          "output_type": "stream",
          "text": [
            "False\n"
          ],
          "name": "stdout"
        }
      ]
    },
    {
      "cell_type": "code",
      "metadata": {
        "id": "KYb-HcIZLfaX",
        "colab": {
          "base_uri": "https://localhost:8080/"
        },
        "outputId": "e6ac97d5-69b5-4921-ca0c-713090d125d5"
      },
      "source": [
        "print(format(\"Welcome\", \"10s\"), end = '#')\n",
        "print(format(111, \"4d\"), end = '#')\n",
        "print(format(924.656, \"3.2f\"))"
      ],
      "execution_count": null,
      "outputs": [
        {
          "output_type": "stream",
          "text": [
            "Welcome   # 111#924.66\n"
          ],
          "name": "stdout"
        }
      ]
    },
    {
      "cell_type": "code",
      "metadata": {
        "colab": {
          "base_uri": "https://localhost:8080/",
          "height": 212
        },
        "id": "dMvwCqlhHBpR",
        "outputId": "837741b7-d435-4dd9-82bd-9a221fcee372"
      },
      "source": [
        "leap_year = int(input())\n",
        "if len(leap_year) == 4 and leap_year.isdigit():\n",
        "  print(leap_year)"
      ],
      "execution_count": null,
      "outputs": [
        {
          "output_type": "stream",
          "text": [
            "10000\n"
          ],
          "name": "stdout"
        },
        {
          "output_type": "error",
          "ename": "TypeError",
          "evalue": "ignored",
          "traceback": [
            "\u001b[0;31m---------------------------------------------------------------------------\u001b[0m",
            "\u001b[0;31mTypeError\u001b[0m                                 Traceback (most recent call last)",
            "\u001b[0;32m<ipython-input-5-bb9bb8dd7bed>\u001b[0m in \u001b[0;36m<module>\u001b[0;34m()\u001b[0m\n\u001b[1;32m      1\u001b[0m \u001b[0mleap_year\u001b[0m \u001b[0;34m=\u001b[0m \u001b[0mint\u001b[0m\u001b[0;34m(\u001b[0m\u001b[0minput\u001b[0m\u001b[0;34m(\u001b[0m\u001b[0;34m)\u001b[0m\u001b[0;34m)\u001b[0m\u001b[0;34m\u001b[0m\u001b[0;34m\u001b[0m\u001b[0m\n\u001b[0;32m----> 2\u001b[0;31m \u001b[0;32mif\u001b[0m \u001b[0mlen\u001b[0m\u001b[0;34m(\u001b[0m\u001b[0mleap_year\u001b[0m\u001b[0;34m)\u001b[0m \u001b[0;34m==\u001b[0m \u001b[0;36m4\u001b[0m \u001b[0;32mand\u001b[0m \u001b[0mleap_year\u001b[0m\u001b[0;34m.\u001b[0m\u001b[0misdigit\u001b[0m\u001b[0;34m(\u001b[0m\u001b[0;34m)\u001b[0m\u001b[0;34m:\u001b[0m\u001b[0;34m\u001b[0m\u001b[0;34m\u001b[0m\u001b[0m\n\u001b[0m\u001b[1;32m      3\u001b[0m   \u001b[0mprint\u001b[0m\u001b[0;34m(\u001b[0m\u001b[0mleap_year\u001b[0m\u001b[0;34m)\u001b[0m\u001b[0;34m\u001b[0m\u001b[0;34m\u001b[0m\u001b[0m\n",
            "\u001b[0;31mTypeError\u001b[0m: object of type 'int' has no len()"
          ]
        }
      ]
    },
    {
      "cell_type": "code",
      "metadata": {
        "colab": {
          "base_uri": "https://localhost:8080/"
        },
        "id": "mNt4mxotHs7n",
        "outputId": "5eef8b00-2abd-40ad-858d-cf70e7642453"
      },
      "source": [
        "leap_year = int(input())\n",
        "if(leap_year % 4 == 0, leap_year % 400 == 0):\n",
        "  print(\"{} is divisible by 4\".format(leap_year))\n",
        "  \n",
        "\n",
        "\n",
        "    "
      ],
      "execution_count": null,
      "outputs": [
        {
          "output_type": "stream",
          "text": [
            "400\n",
            "400 is divisible by 4\n"
          ],
          "name": "stdout"
        }
      ]
    },
    {
      "cell_type": "code",
      "metadata": {
        "colab": {
          "base_uri": "https://localhost:8080/"
        },
        "id": "azIYE0L2Kyev",
        "outputId": "6f099e18-d13e-4cb5-da5b-2f216e357062"
      },
      "source": [
        "leap_year = int(input())\n",
        "if (leap_year % 4 == 0, leap_year % 400 == 0):\n",
        "  print(bool(leap_year))\n",
        "else: print(\"False\")"
      ],
      "execution_count": null,
      "outputs": [
        {
          "output_type": "stream",
          "text": [
            "300\n",
            "True\n"
          ],
          "name": "stdout"
        }
      ]
    },
    {
      "cell_type": "code",
      "metadata": {
        "colab": {
          "base_uri": "https://localhost:8080/"
        },
        "id": "h5DcDRsGLhlP",
        "outputId": "cf5698b5-34ab-4e36-ddfb-6cc24e982bed"
      },
      "source": [
        "print(bool(0))"
      ],
      "execution_count": null,
      "outputs": [
        {
          "output_type": "stream",
          "text": [
            "False\n"
          ],
          "name": "stdout"
        }
      ]
    },
    {
      "cell_type": "code",
      "metadata": {
        "colab": {
          "base_uri": "https://localhost:8080/"
        },
        "id": "epyh2903Izs1",
        "outputId": "c9e95ca3-f766-4d3e-9817-521c61eec09f"
      },
      "source": [
        "num1=int(input(\"Enter your number:\"))\n",
        "if(num1%3==0):\n",
        "    print(\"{} is divisible by 3\".format(num1))\n",
        "else:\n",
        "    print(\"{} is not divisible by 3\".format(num1))"
      ],
      "execution_count": null,
      "outputs": [
        {
          "output_type": "stream",
          "text": [
            "Enter your number:1\n",
            "1 is not divisible by 3\n"
          ],
          "name": "stdout"
        }
      ]
    },
    {
      "cell_type": "code",
      "metadata": {
        "id": "d4ijlaaZMFG0"
      },
      "source": [
        ""
      ],
      "execution_count": null,
      "outputs": []
    },
    {
      "cell_type": "code",
      "metadata": {
        "colab": {
          "base_uri": "https://localhost:8080/"
        },
        "id": "7MS5e2pHMFMC",
        "outputId": "e6ef3e39-e805-498e-a335-f12154eb3c52"
      },
      "source": [
        "leap_year = int(input())\n",
        "if (leap_year%4==0):\n",
        "  print(bool())"
      ],
      "execution_count": null,
      "outputs": [
        {
          "output_type": "stream",
          "text": [
            "300\n",
            "False\n"
          ],
          "name": "stdout"
        }
      ]
    },
    {
      "cell_type": "code",
      "metadata": {
        "colab": {
          "base_uri": "https://localhost:8080/"
        },
        "id": "pJZmZyWBMqUa",
        "outputId": "e1f45057-7003-4c53-8080-8a2a8ddd46c2"
      },
      "source": [
        "leap_year=int(input(\"Enter your number:\"))\n",
        "if (leap_year%4==0):\n",
        "    print(\"{} is divisible by 4\".format(num1))\n",
        "else:\n",
        "    print(\"{} is not divisible by 3\".format(num1))"
      ],
      "execution_count": null,
      "outputs": [
        {
          "output_type": "stream",
          "text": [
            "Enter your number:4\n",
            "0 is divisible by 4\n"
          ],
          "name": "stdout"
        }
      ]
    },
    {
      "cell_type": "code",
      "metadata": {
        "colab": {
          "base_uri": "https://localhost:8080/"
        },
        "id": "CpZ8arEjS_UQ",
        "outputId": "de25daae-33d4-43b6-e412-f64ceb14245f"
      },
      "source": [
        "year=int(input(\"Please enter 4-digit number:\"))\n",
        "if year % 4 == 0:\n",
        "    if year % 100 == 0 and year % 400 == 0:\n",
        "      print(bool(\"year\"))\n",
        "    else:print(bool())\n",
        "else:\n",
        "    print(bool())\n"
      ],
      "execution_count": null,
      "outputs": [
        {
          "output_type": "stream",
          "text": [
            "Please enter 4-digit number:2100\n",
            "False\n"
          ],
          "name": "stdout"
        }
      ]
    },
    {
      "cell_type": "code",
      "metadata": {
        "colab": {
          "base_uri": "https://localhost:8080/"
        },
        "id": "3M2FrqjWcZk5",
        "outputId": "a62cdfbd-61b1-4642-ea9c-e6f6ab514c75"
      },
      "source": [
        "year = int(input(\"Please enter 4-digit number:\"))\n",
        "if year % 4 == 0:\n",
        "    if year % 400 == 0:\n",
        "      print(bool(\"year\"))\n",
        "    else:print(bool())\n",
        "else:\n",
        "    print(bool())"
      ],
      "execution_count": null,
      "outputs": [
        {
          "output_type": "stream",
          "text": [
            "Please enter 4-digit number:2400\n",
            "True\n"
          ],
          "name": "stdout"
        }
      ]
    },
    {
      "cell_type": "code",
      "metadata": {
        "colab": {
          "base_uri": "https://localhost:8080/"
        },
        "id": "87tYEFzd72vl",
        "outputId": "7bf67ab6-0807-44bf-a263-09828bf6d3ff"
      },
      "source": [
        "year = int(input(\"Enter a year: \"))\n",
        "if (year%4==0 and year%100==0 and year%400==0):\n",
        "     print(\"TRUE\")\n",
        "else:\n",
        "    print(\"FALSE\")"
      ],
      "execution_count": null,
      "outputs": [
        {
          "output_type": "stream",
          "text": [
            "Enter a year: 2000\n",
            "TRUE\n"
          ],
          "name": "stdout"
        }
      ]
    },
    {
      "cell_type": "code",
      "metadata": {
        "colab": {
          "base_uri": "https://localhost:8080/"
        },
        "id": "_8Rdq2PjOELJ",
        "outputId": "12cf517f-ce52-4f54-beb7-117b5a072802"
      },
      "source": [
        "year=int(input(\"Please enter 4-digit number:\"))\n",
        "if year % 4 == 0 or year % 100 == 0 and year % 400 == 0:\n",
        "      print(bool(\"year\"))\n",
        "else:\n",
        "    print(bool())"
      ],
      "execution_count": null,
      "outputs": [
        {
          "output_type": "stream",
          "text": [
            "Please enter 4-digit number:1800\n",
            "True\n"
          ],
          "name": "stdout"
        }
      ]
    },
    {
      "cell_type": "code",
      "metadata": {
        "colab": {
          "base_uri": "https://localhost:8080/"
        },
        "id": "8fqHmD7F56Gr",
        "outputId": "f66f6028-042a-44f4-9212-a93e2139ad4b"
      },
      "source": [
        "print(\"xyyzxyzxzxyy\".endswith(\"xyy\", 0, 2))"
      ],
      "execution_count": null,
      "outputs": [
        {
          "output_type": "stream",
          "text": [
            "False\n"
          ],
          "name": "stdout"
        }
      ]
    },
    {
      "cell_type": "code",
      "metadata": {
        "colab": {
          "base_uri": "https://localhost:8080/"
        },
        "id": "CE870awL6JIO",
        "outputId": "2a64819f-513a-4acb-b53b-7a00b2baedc6"
      },
      "source": [
        "print('abcdefcdghcddsfdgfsdgf'.split('cd'))\n"
      ],
      "execution_count": null,
      "outputs": [
        {
          "output_type": "stream",
          "text": [
            "['ab', 'ef', 'gh', 'dsfdgfsdgf']\n"
          ],
          "name": "stdout"
        }
      ]
    },
    {
      "cell_type": "code",
      "metadata": {
        "colab": {
          "base_uri": "https://localhost:8080/",
          "height": 212
        },
        "id": "kke018sbgH5j",
        "outputId": "e5ea5c44-7213-4795-89d2-9f2001e18646"
      },
      "source": [
        "mix_value = (10, False, 'fruit', 1.618)\n",
        "mix_value.append(['vegetable', 2+3j])\n",
        "\n",
        "print(len(mix_value))"
      ],
      "execution_count": null,
      "outputs": [
        {
          "output_type": "error",
          "ename": "AttributeError",
          "evalue": "ignored",
          "traceback": [
            "\u001b[0;31m---------------------------------------------------------------------------\u001b[0m",
            "\u001b[0;31mAttributeError\u001b[0m                            Traceback (most recent call last)",
            "\u001b[0;32m<ipython-input-1-0ca9ec98ccea>\u001b[0m in \u001b[0;36m<module>\u001b[0;34m()\u001b[0m\n\u001b[1;32m      1\u001b[0m \u001b[0mmix_value\u001b[0m \u001b[0;34m=\u001b[0m \u001b[0;34m(\u001b[0m\u001b[0;36m10\u001b[0m\u001b[0;34m,\u001b[0m \u001b[0;32mFalse\u001b[0m\u001b[0;34m,\u001b[0m \u001b[0;34m'fruit'\u001b[0m\u001b[0;34m,\u001b[0m \u001b[0;36m1.618\u001b[0m\u001b[0;34m)\u001b[0m\u001b[0;34m\u001b[0m\u001b[0;34m\u001b[0m\u001b[0m\n\u001b[0;32m----> 2\u001b[0;31m \u001b[0mmix_value\u001b[0m\u001b[0;34m.\u001b[0m\u001b[0mappend\u001b[0m\u001b[0;34m(\u001b[0m\u001b[0;34m[\u001b[0m\u001b[0;34m'vegetable'\u001b[0m\u001b[0;34m,\u001b[0m \u001b[0;36m2\u001b[0m\u001b[0;34m+\u001b[0m\u001b[0;36m3j\u001b[0m\u001b[0;34m]\u001b[0m\u001b[0;34m)\u001b[0m\u001b[0;34m\u001b[0m\u001b[0;34m\u001b[0m\u001b[0m\n\u001b[0m\u001b[1;32m      3\u001b[0m \u001b[0;34m\u001b[0m\u001b[0m\n\u001b[1;32m      4\u001b[0m \u001b[0mprint\u001b[0m\u001b[0;34m(\u001b[0m\u001b[0mlen\u001b[0m\u001b[0;34m(\u001b[0m\u001b[0mmix_value\u001b[0m\u001b[0;34m)\u001b[0m\u001b[0;34m)\u001b[0m\u001b[0;34m\u001b[0m\u001b[0;34m\u001b[0m\u001b[0m\n",
            "\u001b[0;31mAttributeError\u001b[0m: 'tuple' object has no attribute 'append'"
          ]
        }
      ]
    },
    {
      "cell_type": "code",
      "metadata": {
        "id": "QBABrXP3lIRf"
      },
      "source": [
        ""
      ],
      "execution_count": null,
      "outputs": []
    },
    {
      "cell_type": "code",
      "metadata": {
        "colab": {
          "base_uri": "https://localhost:8080/"
        },
        "id": "jg5p5kMzlL2w",
        "outputId": "b683d2db-163d-4b6e-b871-14a4a93c113e"
      },
      "source": [
        "my_list = [4, 5, 2, 1]\n",
        "print(list(range(1,11)))"
      ],
      "execution_count": null,
      "outputs": [
        {
          "output_type": "stream",
          "text": [
            "[1, 2, 3, 4, 5, 6, 7, 8, 9, 10]\n"
          ],
          "name": "stdout"
        }
      ]
    },
    {
      "cell_type": "code",
      "metadata": {
        "colab": {
          "base_uri": "https://localhost:8080/",
          "height": 178
        },
        "id": "rurt3jJgo28M",
        "outputId": "8d524843-37d6-41f0-ec32-76b56e06f82b"
      },
      "source": [
        "grocer = [\"banana\", [\"orange\", [\"apple\", \"eggplant\", \"melon\", \"spinach\", \"cheese\", \"leek\" ], \"water\"], \"mandarin\"]\n",
        "print(list_grocer [1][2:5:2])"
      ],
      "execution_count": null,
      "outputs": [
        {
          "output_type": "error",
          "ename": "NameError",
          "evalue": "ignored",
          "traceback": [
            "\u001b[0;31m---------------------------------------------------------------------------\u001b[0m",
            "\u001b[0;31mNameError\u001b[0m                                 Traceback (most recent call last)",
            "\u001b[0;32m<ipython-input-18-566d1c35c68c>\u001b[0m in \u001b[0;36m<module>\u001b[0;34m()\u001b[0m\n\u001b[1;32m      1\u001b[0m \u001b[0mgrocer\u001b[0m \u001b[0;34m=\u001b[0m \u001b[0;34m[\u001b[0m\u001b[0;34m\"banana\"\u001b[0m\u001b[0;34m,\u001b[0m \u001b[0;34m[\u001b[0m\u001b[0;34m\"orange\"\u001b[0m\u001b[0;34m,\u001b[0m \u001b[0;34m[\u001b[0m\u001b[0;34m\"apple\"\u001b[0m\u001b[0;34m,\u001b[0m \u001b[0;34m\"eggplant\"\u001b[0m\u001b[0;34m,\u001b[0m \u001b[0;34m\"melon\"\u001b[0m\u001b[0;34m,\u001b[0m \u001b[0;34m\"spinach\"\u001b[0m\u001b[0;34m,\u001b[0m \u001b[0;34m\"cheese\"\u001b[0m\u001b[0;34m,\u001b[0m \u001b[0;34m\"leek\"\u001b[0m \u001b[0;34m]\u001b[0m\u001b[0;34m,\u001b[0m \u001b[0;34m\"water\"\u001b[0m\u001b[0;34m]\u001b[0m\u001b[0;34m,\u001b[0m \u001b[0;34m\"mandarin\"\u001b[0m\u001b[0;34m]\u001b[0m\u001b[0;34m\u001b[0m\u001b[0;34m\u001b[0m\u001b[0m\n\u001b[0;32m----> 2\u001b[0;31m \u001b[0mprint\u001b[0m\u001b[0;34m(\u001b[0m\u001b[0mlist_grocer\u001b[0m \u001b[0;34m[\u001b[0m\u001b[0;36m1\u001b[0m\u001b[0;34m]\u001b[0m\u001b[0;34m[\u001b[0m\u001b[0;36m2\u001b[0m\u001b[0;34m:\u001b[0m\u001b[0;36m5\u001b[0m\u001b[0;34m:\u001b[0m\u001b[0;36m2\u001b[0m\u001b[0;34m]\u001b[0m\u001b[0;34m)\u001b[0m\u001b[0;34m\u001b[0m\u001b[0;34m\u001b[0m\u001b[0m\n\u001b[0m",
            "\u001b[0;31mNameError\u001b[0m: name 'list_grocer' is not defined"
          ]
        }
      ]
    },
    {
      "cell_type": "code",
      "metadata": {
        "colab": {
          "base_uri": "https://localhost:8080/"
        },
        "id": "fJpwz9AHsQG1",
        "outputId": "4044e6b6-aa21-4805-ad8a-bd185a6081d5"
      },
      "source": [
        "text = \"My two favorite flowers are tulip and rose, two favorite colors are blue and green.\"\n",
        "print(text)"
      ],
      "execution_count": null,
      "outputs": [
        {
          "output_type": "stream",
          "text": [
            "My two favorite flowers are tulip and rose, two favorite colors are blue and green.\n"
          ],
          "name": "stdout"
        }
      ]
    },
    {
      "cell_type": "code",
      "metadata": {
        "colab": {
          "base_uri": "https://localhost:8080/"
        },
        "id": "wvsuzCxetOlY",
        "outputId": "39d33150-d402-4f3d-ff6e-f4799815181a"
      },
      "source": [
        "flowers = [[\"jasmine\", [\"lavender\", \"rose\"], \"tulip\"]]\n",
        "colors = [\"red\", (\"blue\", [\"yellow\", \"green\"]), \"pink\"]\n",
        "text = \"My two favorite flowers are {} and, two favorite colors are and.\".format(\"flowers\"[2])\n",
        "print(text)"
      ],
      "execution_count": null,
      "outputs": [
        {
          "output_type": "stream",
          "text": [
            "My two favorite flowers are o and, two favorite colors are and.\n"
          ],
          "name": "stdout"
        }
      ]
    },
    {
      "cell_type": "code",
      "metadata": {
        "colab": {
          "base_uri": "https://localhost:8080/"
        },
        "id": "jToHkYM_tv-g",
        "outputId": "e5d4ec62-6e8e-4592-c6ff-7266b3c27c79"
      },
      "source": [
        "flowers = [[\"jasmine\", [\"lavender\", \"rose\"], \"tulip\"]]\n",
        "colors = [\"red\", (\"blue\", [\"yellow\", \"green\"]), \"pink\"]\n",
        "text = \"My two favorite flowers are {} and {}, two favorite colors are {} and {}.\".format(flowers[0][2], flowers[0][1][1], colors[1][0], colors[1][1][1])\n",
        "print(text)"
      ],
      "execution_count": null,
      "outputs": [
        {
          "output_type": "stream",
          "text": [
            "My two favorite flowers are tulip and rose, two favorite colors are blue and green.\n"
          ],
          "name": "stdout"
        }
      ]
    },
    {
      "cell_type": "code",
      "metadata": {
        "colab": {
          "base_uri": "https://localhost:8080/"
        },
        "id": "Kk250vxlTVep",
        "outputId": "a91af2e5-1f2a-4cee-e5ac-4dd57dbb2d68"
      },
      "source": [
        "flowers = [[\"jasmine\", [\"lavender\", \"rose\"], \"tulip\"]]\n",
        "colors = [\"red\", (\"blue\", [\"yellow\", \"green\"]), \"pink\"]\n",
        "text = \"My two favorite flowers are {} and {}, two favorite colors are {} and {}.\".format(flowers[0][2], flowers[0][1][1], colors[1][0], colors[1][1][1])\n",
        "print(text)"
      ],
      "execution_count": null,
      "outputs": [
        {
          "output_type": "stream",
          "text": [
            "My two favorite flowers are tulip and rose, two favorite colors are blue and green.\n"
          ],
          "name": "stdout"
        }
      ]
    },
    {
      "cell_type": "code",
      "metadata": {
        "colab": {
          "base_uri": "https://localhost:8080/"
        },
        "id": "lXa_ZOigvm6w",
        "outputId": "4761bdb2-88df-454e-ac69-8747d8f881d0"
      },
      "source": [
        "\n",
        "\n",
        "sentence = \"{}I have two children.\".format(\"\\t\")\n",
        "\n",
        "print(sentence)"
      ],
      "execution_count": null,
      "outputs": [
        {
          "output_type": "stream",
          "text": [
            "\tI have two children.\n"
          ],
          "name": "stdout"
        }
      ]
    },
    {
      "cell_type": "code",
      "metadata": {
        "colab": {
          "base_uri": "https://localhost:8080/",
          "height": 129
        },
        "id": "H5vLDpXKz5l0",
        "outputId": "6ad632e6-482c-4223-c847-6785ddd79436"
      },
      "source": [
        "sentence = \"I am 40 years old.\" \"{}I have two children.\".format(\"\\n\\t\") \"{}I have two children.\".format(\"\\n\\t\")\n",
        "\n",
        "\n",
        "print(sentence)"
      ],
      "execution_count": null,
      "outputs": [
        {
          "output_type": "error",
          "ename": "SyntaxError",
          "evalue": "ignored",
          "traceback": [
            "\u001b[0;36m  File \u001b[0;32m\"<ipython-input-69-71b9463d5f56>\"\u001b[0;36m, line \u001b[0;32m1\u001b[0m\n\u001b[0;31m    sentence = \"I am 40 years old.\" \"{}I have two children.\".format(\"\\n\\t\") \"{}I have two children.\".format(\"\\n\\t\")\u001b[0m\n\u001b[0m                                                                                                   ^\u001b[0m\n\u001b[0;31mSyntaxError\u001b[0m\u001b[0;31m:\u001b[0m invalid syntax\n"
          ]
        }
      ]
    },
    {
      "cell_type": "code",
      "metadata": {
        "colab": {
          "base_uri": "https://localhost:8080/"
        },
        "id": "i816JNiU1NVu",
        "outputId": "042a3be4-7b50-42ec-d9df-1656ea0d3845"
      },
      "source": [
        "sentence = \"I am 40 years old.\" \"{}I have two children.\".format(\"\\n\\t\") \n",
        "\n",
        "\n",
        "print(sentence)"
      ],
      "execution_count": null,
      "outputs": [
        {
          "output_type": "stream",
          "text": [
            "I am 40 years old.\n",
            "\tI have two children.\n"
          ],
          "name": "stdout"
        }
      ]
    },
    {
      "cell_type": "code",
      "metadata": {
        "id": "6NJoO3FcPbwF",
        "colab": {
          "base_uri": "https://localhost:8080/"
        },
        "outputId": "162c23e4-f873-4554-d181-f4d6ab2fada1"
      },
      "source": [
        "list_2 = ['@', '*-', \"False\"]\n",
        "list_2.sort()\n",
        "print(list_2)"
      ],
      "execution_count": null,
      "outputs": [
        {
          "output_type": "stream",
          "text": [
            "['*-', '@', 'False']\n"
          ],
          "name": "stdout"
        }
      ]
    },
    {
      "cell_type": "code",
      "metadata": {
        "colab": {
          "base_uri": "https://localhost:8080/"
        },
        "id": "NfpRSv-GxCJ1",
        "outputId": "22f6330b-da2c-451a-b6cf-f03dd5e80681"
      },
      "source": [
        "month = \"{}February\".format(\"\\t\")\n",
        "\n",
        "print(month)"
      ],
      "execution_count": null,
      "outputs": [
        {
          "output_type": "stream",
          "text": [
            "\tFebruary\n"
          ],
          "name": "stdout"
        }
      ]
    },
    {
      "cell_type": "code",
      "metadata": {
        "colab": {
          "base_uri": "https://localhost:8080/"
        },
        "id": "QNnLXGTmmeNy",
        "outputId": "953b16bb-36d8-4375-9607-7c7f27a12905"
      },
      "source": [
        "my_list = list(range(1,11))\n",
        "my_list.sort(reverse=True)\n",
        "print(my_list)"
      ],
      "execution_count": null,
      "outputs": [
        {
          "output_type": "stream",
          "text": [
            "[10, 9, 8, 7, 6, 5, 4, 3, 2, 1]\n"
          ],
          "name": "stdout"
        }
      ]
    },
    {
      "cell_type": "code",
      "metadata": {
        "colab": {
          "base_uri": "https://localhost:8080/"
        },
        "id": "mhQnjhXqmPcr",
        "outputId": "b90763c0-6f4d-4194-d248-0a969df8674d"
      },
      "source": [
        "my_list = [4, 5, 2, 1]\n",
        "my_list.sort()\n",
        "print(my_list)"
      ],
      "execution_count": null,
      "outputs": [
        {
          "output_type": "stream",
          "text": [
            "[1, 2, 4, 5]\n"
          ],
          "name": "stdout"
        }
      ]
    },
    {
      "cell_type": "code",
      "metadata": {
        "colab": {
          "base_uri": "https://localhost:8080/"
        },
        "id": "TkEyXl4jDzKd",
        "outputId": "2c314d37-1e1c-406c-c0f3-e04c315ebcef"
      },
      "source": [
        "text = \"fjsngknlk fjsnkerf idfmdk\"\n",
        "print(text[len(text)-1])\n",
        "\n",
        "word = ['w' 'o' 'r' 'd']\n",
        "print(word[len(word) - 1])\n",
        "\n",
        "word = ['w', 'o' 'r' 'd']\n",
        "print(word[len(word) - 1])\n",
        "\n",
        "word = ['w', 'o', 'r', 'd']\n",
        "print(word[len(word) - 1])"
      ],
      "execution_count": null,
      "outputs": [
        {
          "output_type": "stream",
          "text": [
            "k\n",
            "word\n",
            "ord\n",
            "d\n"
          ],
          "name": "stdout"
        }
      ]
    },
    {
      "cell_type": "code",
      "metadata": {
        "colab": {
          "base_uri": "https://localhost:8080/"
        },
        "id": "dryqwIN-EI6X",
        "outputId": "9b25c6de-f357-4098-962f-b5533ea3ee06"
      },
      "source": [
        "colors = ['red', 'purple', 'blue', 'yellow', 'green']\n",
        "print(colors[2])\n",
        "\n",
        "colors = ['red' 'purple' 'blue' 'yellow' 'green']\n",
        "print(colors[0])\n"
      ],
      "execution_count": null,
      "outputs": [
        {
          "output_type": "stream",
          "text": [
            "blue\n",
            "redpurpleblueyellowgreen\n"
          ],
          "name": "stdout"
        }
      ]
    },
    {
      "cell_type": "code",
      "metadata": {
        "colab": {
          "base_uri": "https://localhost:8080/"
        },
        "id": "tPUAdB1rFxoO",
        "outputId": "fb97fafc-df29-4ccd-999e-d190bd3d2185"
      },
      "source": [
        "city = ['Barcelona', 'Milan', 'Madrid', 'Berlin']\n",
        "city_list = []\n",
        "print(city)\n",
        "print(city_list)\n",
        "\n",
        "city_list.append(city)  # Watch out for the order first we write city_list and then add city to it, that's why city is in 2 []\n",
        "print(city_list)\n",
        "print(len(city_list))\n",
        "\n",
        "city_list.append(city)\n",
        "print(city_list)\n",
        "print(len(city_list))\n",
        "\n",
        "city_list.append(555)  # append can take exactly 1 argument, no more\n",
        "print(city_list)"
      ],
      "execution_count": null,
      "outputs": [
        {
          "output_type": "stream",
          "text": [
            "['Barcelona', 'Milan', 'Madrid', 'Berlin']\n",
            "[]\n",
            "[['Barcelona', 'Milan', 'Madrid', 'Berlin']]\n",
            "1\n",
            "[['Barcelona', 'Milan', 'Madrid', 'Berlin'], ['Barcelona', 'Milan', 'Madrid', 'Berlin']]\n",
            "2\n",
            "[['Barcelona', 'Milan', 'Madrid', 'Berlin'], ['Barcelona', 'Milan', 'Madrid', 'Berlin'], 555]\n"
          ],
          "name": "stdout"
        }
      ]
    },
    {
      "cell_type": "code",
      "metadata": {
        "colab": {
          "base_uri": "https://localhost:8080/"
        },
        "id": "6-5zN6DhHjfh",
        "outputId": "922b1c0e-3a6a-440b-a5ec-7bd92b0ab3c1"
      },
      "source": [
        "city = ['Barcelona', 'Milan', 'Madrid', 'Berlin']\n",
        "city_list = []\n",
        "print(city)\n",
        "print(city_list)\n",
        "\n",
        "city.append(city_list)  # That's the other way around\n",
        "print(city)\n",
        "print(len(city))"
      ],
      "execution_count": null,
      "outputs": [
        {
          "output_type": "stream",
          "text": [
            "['Barcelona', 'Milan', 'Madrid', 'Berlin']\n",
            "[]\n",
            "['Barcelona', 'Milan', 'Madrid', 'Berlin', []]\n",
            "5\n"
          ],
          "name": "stdout"
        }
      ]
    },
    {
      "cell_type": "code",
      "metadata": {
        "colab": {
          "base_uri": "https://localhost:8080/"
        },
        "id": "97pGiu-3GYz7",
        "outputId": "98f29284-afbd-4edf-e37c-99932590fd41"
      },
      "source": [
        "city = ['Barcelona', 'Milan', 'Madrid', 'Berlin']\n",
        "city.append(city)\n",
        "print(city)\n",
        "print(len(city))"
      ],
      "execution_count": null,
      "outputs": [
        {
          "output_type": "stream",
          "text": [
            "['Barcelona', 'Milan', 'Madrid', 'Berlin', [...]]\n",
            "5\n"
          ],
          "name": "stdout"
        }
      ]
    },
    {
      "cell_type": "code",
      "metadata": {
        "colab": {
          "base_uri": "https://localhost:8080/"
        },
        "id": "ncgx7EyQHIzg",
        "outputId": "2ea13c63-dfaf-4c29-b171-d58e13555425"
      },
      "source": [
        "city_list = []\n",
        "city_list.append(city_list)\n",
        "print(city_list)"
      ],
      "execution_count": null,
      "outputs": [
        {
          "output_type": "stream",
          "text": [
            "[[...]]\n"
          ],
          "name": "stdout"
        }
      ]
    },
    {
      "cell_type": "code",
      "metadata": {
        "colab": {
          "base_uri": "https://localhost:8080/"
        },
        "id": "T_alhHRQHXlF",
        "outputId": "7034ec1f-4f8f-4ca2-c9fc-a9586d35cef7"
      },
      "source": [
        "city = ['Barcelona', 'Milan', 'Madrid', 'Berlin']\n",
        "city_list = []\n",
        "city_list.append(city)\n",
        "city_list.append(555)\n",
        "\n",
        "\n",
        "\n",
        "print(city_list)\n",
        "print(city_list[0])\n",
        "print(city_list[0][0])\n",
        "print(city_list[0][0][0])  # Wow this one works as well\n",
        "print(city_list[0][0][-1])\n",
        "print(city_list[0][0][len(city)])   # Helpful example!! e because len of city is 4 and e is the 4th element \n",
        "print(len(city[1]))  # !!!\n",
        "print(city_list[0][0][len(city[1])])  # !!!\n",
        "print(city_list[0][0][len(city[1]) - 1])  # !!!\n",
        "print(city_list[1])\n",
        " "
      ],
      "execution_count": null,
      "outputs": [
        {
          "output_type": "stream",
          "text": [
            "[['Barcelona', 'Milan', 'Madrid', 'Berlin'], 555]\n",
            "['Barcelona', 'Milan', 'Madrid', 'Berlin']\n",
            "Barcelona\n",
            "B\n",
            "a\n",
            "e\n",
            "5\n",
            "l\n",
            "e\n",
            "555\n"
          ],
          "name": "stdout"
        }
      ]
    },
    {
      "cell_type": "code",
      "metadata": {
        "id": "-ukEUTHrWTUB"
      },
      "source": [
        "city = ['Barcelona', 'Milan', 'Madrid', 'Berlin']\n",
        "city_list = []\n",
        "city_list.append(city)\n",
        "city_list.append(555)\n",
        "\n",
        "\n",
        "\n",
        "print(city_list)\n",
        "print(city_list[0])\n",
        "print(city_list[0][0])\n",
        "print(city_list[0][0][0])  \n",
        "print(city_list[0][0][-1])\n",
        "print(city_list[0][0][len(city)])   \n",
        "print(city_list[0][0][len(city[1])]) \n",
        "print(city_list[0][0][len(city[1]) - 1]) \n",
        "print(city_list[1])"
      ],
      "execution_count": null,
      "outputs": []
    },
    {
      "cell_type": "code",
      "metadata": {
        "colab": {
          "base_uri": "https://localhost:8080/"
        },
        "id": "t-5FPU8FQOkk",
        "outputId": "9e6da12c-a4b3-4ce5-9838-7a286b03667a"
      },
      "source": [
        "Numbers = [[11, [15, 17], 23, 25, 27]]  # look at the otput and compare with the following code\n",
        "print(Numbers[::-1])"
      ],
      "execution_count": null,
      "outputs": [
        {
          "output_type": "stream",
          "text": [
            "[[11, [15, 17], 23, 25, 27]]\n"
          ],
          "name": "stdout"
        }
      ]
    },
    {
      "cell_type": "code",
      "metadata": {
        "colab": {
          "base_uri": "https://localhost:8080/"
        },
        "id": "C03k9n9rQtEn",
        "outputId": "89a6a06c-9790-43d1-f35b-99c1bf2b9f40"
      },
      "source": [
        "Numbers = [11, [15, 17], 23, 25, 27]  # Notice that [15, 17] won't change places in the otput\n",
        "print(Numbers[::-1])"
      ],
      "execution_count": null,
      "outputs": [
        {
          "output_type": "stream",
          "text": [
            "[27, 25, 23, [15, 17], 11]\n"
          ],
          "name": "stdout"
        }
      ]
    },
    {
      "cell_type": "code",
      "metadata": {
        "colab": {
          "base_uri": "https://localhost:8080/"
        },
        "id": "g4verfazRiEM",
        "outputId": "236855be-7410-4c61-a57e-77c5891799e3"
      },
      "source": [
        "print(len([1, 2, 3]))\n",
        "#print(len([1, 2, 3][0]))  # check it\n",
        "print(len([[1, 2, 3]]))\n",
        "print(len([[1, 2, 3]][0]))"
      ],
      "execution_count": null,
      "outputs": [
        {
          "output_type": "stream",
          "text": [
            "3\n",
            "1\n",
            "3\n"
          ],
          "name": "stdout"
        }
      ]
    },
    {
      "cell_type": "code",
      "metadata": {
        "colab": {
          "base_uri": "https://localhost:8080/"
        },
        "id": "E-vxJYySRvmX",
        "outputId": "ef9f1383-4290-43e9-af6f-35738bc5c8b4"
      },
      "source": [
        "nums = list(range(11))\n",
        "print(nums)\n",
        "print(nums[1:])\n",
        "print(nums[1:3])\n",
        "print(nums[::2])  # even numbers\n",
        "print(nums[1::2])  # odd numbers\n",
        "print(nums[1:20:2])  # important example in slicing the endpoint doesn't matter\n",
        "print(nums[::5])  # start from zero and take every 5th element"
      ],
      "execution_count": null,
      "outputs": [
        {
          "output_type": "stream",
          "text": [
            "[0, 1, 2, 3, 4, 5, 6, 7, 8, 9, 10]\n",
            "[1, 2, 3, 4, 5, 6, 7, 8, 9, 10]\n",
            "[1, 2]\n",
            "[0, 2, 4, 6, 8, 10]\n",
            "[1, 3, 5, 7, 9]\n",
            "[1, 3, 5, 7, 9]\n",
            "[0, 5, 10]\n"
          ],
          "name": "stdout"
        }
      ]
    },
    {
      "cell_type": "code",
      "metadata": {
        "colab": {
          "base_uri": "https://localhost:8080/"
        },
        "id": "ZK_wa5IxSh8L",
        "outputId": "a19c5c0c-074d-4c2c-d932-9c24ee848e4b"
      },
      "source": [
        "mix_list = [1, [1,'one', 2, 'two', 3, 'three'], 4]\n",
        "print(mix_list[1][1::2])\n",
        "print(mix_list[1][::2])"
      ],
      "execution_count": null,
      "outputs": [
        {
          "output_type": "stream",
          "text": [
            "['one', 'two', 'three']\n",
            "[1, 2, 3]\n"
          ],
          "name": "stdout"
        }
      ]
    },
    {
      "cell_type": "code",
      "metadata": {
        "colab": {
          "base_uri": "https://localhost:8080/"
        },
        "id": "UjhEFw_oVpjg",
        "outputId": "308c0817-24d8-4cb3-ae8d-f639c7ab86ee"
      },
      "source": [
        "list1 = ['h', 'a', 'p', 'p', 'y']\n",
        "word = 'happy'\n",
        "list2 = list(word)\n",
        "\n",
        "print(list1)\n",
        "print(list2)"
      ],
      "execution_count": null,
      "outputs": [
        {
          "output_type": "stream",
          "text": [
            "['h', 'a', 'p', 'p', 'y']\n",
            "['h', 'a', 'p', 'p', 'y']\n"
          ],
          "name": "stdout"
        }
      ]
    },
    {
      "cell_type": "code",
      "metadata": {
        "colab": {
          "base_uri": "https://localhost:8080/"
        },
        "id": "rDRUkfB3CqxH",
        "outputId": "8b1ec257-b362-451a-dc36-63b254abcf7c"
      },
      "source": [
        "word = 'happy'\n",
        "l1 = [word]\n",
        "l2 = list(word)\n",
        "l3 = [1, 2, 3, \"anotheritem...\", True, \"True\", False]  # any type works this way\n",
        "\n",
        "print(l1)\n",
        "print(l2)\n",
        "print(l3)"
      ],
      "execution_count": null,
      "outputs": [
        {
          "output_type": "stream",
          "text": [
            "['happy']\n",
            "['h', 'a', 'p', 'p', 'y']\n",
            "[1, 2, 3, 'anotheritem...', True, 'True', False]\n"
          ],
          "name": "stdout"
        }
      ]
    },
    {
      "cell_type": "code",
      "metadata": {
        "colab": {
          "base_uri": "https://localhost:8080/"
        },
        "id": "nhU_Kmu6EFJG",
        "outputId": "f214c0c2-7c5a-4798-dde7-958e6e608329"
      },
      "source": [
        "country = ['USA', 'Brasil', 'UK', 'Germany', 'Turkey', 'New Zealand']\n",
        "print(country)\n",
        "print(country.sort())  # !!!!\n"
      ],
      "execution_count": null,
      "outputs": [
        {
          "output_type": "stream",
          "text": [
            "['USA', 'Brasil', 'UK', 'Germany', 'Turkey', 'New Zealand']\n",
            "None\n"
          ],
          "name": "stdout"
        }
      ]
    },
    {
      "cell_type": "code",
      "metadata": {
        "colab": {
          "base_uri": "https://localhost:8080/"
        },
        "id": "775F8cT0FZsD",
        "outputId": "b224f7b3-172f-4172-978c-ce2ae964739f"
      },
      "source": [
        "str1 = \"I quit smoking\"\n",
        "\n",
        "new_list1 = list(str1)\n",
        "print(new_list1)\n",
        "\n",
        "new_list2 = [str1]\n",
        "print(new_list2)\n",
        "\n",
        "new_list2 = [\"fsgfa\", \"dafjasioj\", str1]  # str1 from 1st line, notice that we don't put it into quotation marks\n",
        "print(new_list2)"
      ],
      "execution_count": null,
      "outputs": [
        {
          "output_type": "stream",
          "text": [
            "['I', ' ', 'q', 'u', 'i', 't', ' ', 's', 'm', 'o', 'k', 'i', 'n', 'g']\n",
            "['I quit smoking']\n",
            "['fsgfa', 'dafjasioj', 'I quit smoking']\n"
          ],
          "name": "stdout"
        }
      ]
    },
    {
      "cell_type": "code",
      "metadata": {
        "colab": {
          "base_uri": "https://localhost:8080/"
        },
        "id": "5J-J7JzHHhPi",
        "outputId": "a8c51dc9-1246-49a6-fee2-18bf989e757f"
      },
      "source": [
        "var1 = 123\n",
        "var2 = \"a string\"\n",
        "var3 = True\n",
        "var4 = 11.22\n",
        "\n",
        "mixed_list = [11, \"Joseph\", False, 3.14, None, [1, 2, 3, [\"list3\", 22]], var1, var2, var3, var4]  # [1, 2, 3] is a nested list\n",
        "\n",
        "print(mixed_list)"
      ],
      "execution_count": null,
      "outputs": [
        {
          "output_type": "stream",
          "text": [
            "[11, 'Joseph', False, 3.14, None, [1, 2, 3, ['list3', 22]], 123, 'a string', True, 11.22]\n"
          ],
          "name": "stdout"
        }
      ]
    },
    {
      "cell_type": "code",
      "metadata": {
        "colab": {
          "base_uri": "https://localhost:8080/"
        },
        "id": "vabNHM5zJZTK",
        "outputId": "a957cc04-9541-401d-d830-03f078b17525"
      },
      "source": [
        "name ='Michael'  # spot the difference between this and following code\n",
        "print(list(name))\n",
        "name =['Michael']  # this one and the next one are the 2 different ways to write the same output\n",
        "print(list(name))\n",
        "name = 'Michael'\n",
        "list1 = [name]\n",
        "print(list1, \"\\n\\n\")\n",
        "\n",
        "my_list = [\"Joseph\", \"Clarusway\", 2020]\n",
        "new_list1 = list(my_list)\n",
        "new_list2 = [my_list]\n",
        "\n",
        "print(my_list)\n",
        "print(new_list1)\n",
        "print(len(new_list1))\n",
        "print(new_list2)\n",
        "print(len(new_list2), type(new_list1))\n"
      ],
      "execution_count": null,
      "outputs": [
        {
          "output_type": "stream",
          "text": [
            "['M', 'i', 'c', 'h', 'a', 'e', 'l']\n",
            "['Michael']\n",
            "['Michael'] \n",
            "\n",
            "\n",
            "['Joseph', 'Clarusway', 2020]\n",
            "['Joseph', 'Clarusway', 2020]\n",
            "3\n",
            "[['Joseph', 'Clarusway', 2020]]\n",
            "1 <class 'list'>\n"
          ],
          "name": "stdout"
        }
      ]
    },
    {
      "cell_type": "code",
      "metadata": {
        "colab": {
          "base_uri": "https://localhost:8080/"
        },
        "id": "wdeZfz-RMr6g",
        "outputId": "32743c0e-7046-428c-cc2f-a88ebceb0b9e"
      },
      "source": [
        "my_list1 = [\"2020's hard\"]  # !!!!\n",
        "my_list2 = list(\"2020's hard\")  # !!!!\n",
        "\n",
        "print(my_list1, \"\\t\\ttotal item number:\", len(my_list1))\n",
        "print(my_list2)"
      ],
      "execution_count": null,
      "outputs": [
        {
          "output_type": "stream",
          "text": [
            "[\"2020's hard\"] \t\ttotal item number: 1\n",
            "['2', '0', '2', '0', \"'\", 's', ' ', 'h', 'a', 'r', 'd']\n"
          ],
          "name": "stdout"
        }
      ]
    },
    {
      "cell_type": "code",
      "metadata": {
        "colab": {
          "base_uri": "https://localhost:8080/"
        },
        "id": "eUN-ySEWQMmy",
        "outputId": "6105ea5a-c478-41dc-ee51-0b8e7f4ca786"
      },
      "source": [
        "numbers = [1, 4, 7]\n",
        "numbers.append(9)\n",
        "numbers.append(\"9\")\n",
        "numbers.append(True)\n",
        "numbers.append(2.44)\n",
        "numbers.append(\"a string\")\n",
        "#numbers.append(1, 3)   # append takes only one argument\n",
        "numbers.append([\"ff\", \"ee\", 22, False])  # but this way it works cause it in the list\n",
        "\n",
        "print(numbers)"
      ],
      "execution_count": null,
      "outputs": [
        {
          "output_type": "stream",
          "text": [
            "[1, 4, 7, 9, '9', True, 2.44, 'a string', ['ff', 'ee', 22, False]]\n"
          ],
          "name": "stdout"
        }
      ]
    },
    {
      "cell_type": "code",
      "metadata": {
        "colab": {
          "base_uri": "https://localhost:8080/"
        },
        "id": "M0cVg7JbUC9g",
        "outputId": "c7b5aa50-f9d2-4631-f576-0de412a0c54f"
      },
      "source": [
        "numbers = []\n",
        "mylist = list(range(1, 4, 1))\n",
        "print(mylist)\n",
        "\n",
        "mylist = list(range(1, 4, 1))\n",
        "print(mylist)"
      ],
      "execution_count": null,
      "outputs": [
        {
          "output_type": "stream",
          "text": [
            "[1, 2, 3]\n",
            "[1, 2, 3]\n"
          ],
          "name": "stdout"
        }
      ]
    },
    {
      "cell_type": "code",
      "metadata": {
        "colab": {
          "base_uri": "https://localhost:8080/"
        },
        "id": "RkGp0r_OUbJe",
        "outputId": "676a34f9-d705-46d4-c09f-ce0a15b78ee5"
      },
      "source": [
        "city = ['Los Angeles', 'Beirut', 'Tokyo']\n",
        "city[2] = 'Istanbul'  # !!!!!!!!!!!!!!!!!!!!!!!  see difference with that one and .insert function\n",
        "city[2] = 'Barcelona'  # !!!!!!!!!!!!!!\n",
        "\n",
        "\n",
        "print(city)\n",
        "\n",
        "city = ['Los Angeles', 'Beirut', 'Tokyo']\n",
        "city[1:] = 'Seoul'\n",
        "\n",
        "print(city)\n",
        "\n",
        "city = ['Los Angeles', 'Beirut', 'Tokyo']\n",
        "city[0:] = 'Seoul'\n",
        "\n",
        "print(city)\n",
        "\n",
        "city = ['Los Angeles', 'Beirut', 'Tokyo']\n",
        "city[2:] = 'Seoul'\n",
        "\n",
        "print(city)\n"
      ],
      "execution_count": null,
      "outputs": [
        {
          "output_type": "stream",
          "text": [
            "['Los Angeles', 'Beirut', 'Barcelona']\n",
            "['Los Angeles', 'S', 'e', 'o', 'u', 'l']\n",
            "['S', 'e', 'o', 'u', 'l']\n",
            "['Los Angeles', 'Beirut', 'S', 'e', 'o', 'u', 'l']\n"
          ],
          "name": "stdout"
        }
      ]
    },
    {
      "cell_type": "code",
      "metadata": {
        "colab": {
          "base_uri": "https://localhost:8080/"
        },
        "id": "UO6jxjkNXF72",
        "outputId": "531d45a6-903f-4ad2-baee-641bddedaa33"
      },
      "source": [
        "numbers = [1, 4, 7]\n",
        "numbers.insert(2, 9)\n",
        "print(numbers)\n",
        "numbers.insert(2, 6)\n",
        "print(numbers)\n",
        "numbers.insert(0, 'www')\n",
        "print(numbers)\n",
        "numbers.insert(55, True)  # doesnt matter if u provide higher than the endpoint number, it will put the item into the end of the list\n",
        "print(numbers)\n"
      ],
      "execution_count": null,
      "outputs": [
        {
          "output_type": "stream",
          "text": [
            "[1, 4, 9, 7]\n",
            "[1, 4, 6, 9, 7]\n",
            "['www', 1, 4, 6, 9, 7]\n",
            "['www', 1, 4, 6, 9, 7, True]\n"
          ],
          "name": "stdout"
        }
      ]
    },
    {
      "cell_type": "code",
      "metadata": {
        "colab": {
          "base_uri": "https://localhost:8080/"
        },
        "id": "4cR1nyyCNgWd",
        "outputId": "6e8116dd-70f6-41e4-db1e-48237af51933"
      },
      "source": [
        "fruits = ['apple', 'banana', 'watermelon', 'orange', 'mango', 'avocado']\n",
        "\n",
        "fruit_list = []\n",
        "fruit_list.insert(0, fruits)\n",
        "print(fruit_list[0][2][7])"
      ],
      "execution_count": null,
      "outputs": [
        {
          "output_type": "stream",
          "text": [
            "l\n"
          ],
          "name": "stdout"
        }
      ]
    },
    {
      "cell_type": "code",
      "metadata": {
        "colab": {
          "base_uri": "https://localhost:8080/"
        },
        "id": "tJS7VZVsTZ_4",
        "outputId": "722077c5-94e0-433d-80af-2ddd4aa1f556"
      },
      "source": [
        "my_tuple=(1, 4, 3, 4, 5, 6, 7, 4)\n",
        "\n",
        "my_list = list(my_tuple)\n",
        "\n",
        "print(type(my_list), my_list)"
      ],
      "execution_count": null,
      "outputs": [
        {
          "output_type": "stream",
          "text": [
            "<class 'list'> [1, 4, 3, 4, 5, 6, 7, 4]\n"
          ],
          "name": "stdout"
        }
      ]
    },
    {
      "cell_type": "code",
      "metadata": {
        "colab": {
          "base_uri": "https://localhost:8080/"
        },
        "id": "c1C2f3EYTbHO",
        "outputId": "4831bc69-89df-413d-d90d-d9c4057cedd7"
      },
      "source": [
        "my_list = [1, 4, 3, 4, 5, 6, 7, 4]\n",
        "\n",
        "my_tuple = tuple(my_list)\n",
        "\n",
        "print(type(my_tuple), my_tuple)"
      ],
      "execution_count": null,
      "outputs": [
        {
          "output_type": "stream",
          "text": [
            "<class 'tuple'> (1, 4, 3, 4, 5, 6, 7, 4)\n"
          ],
          "name": "stdout"
        }
      ]
    },
    {
      "cell_type": "code",
      "metadata": {
        "id": "PESPbak5dbsI",
        "colab": {
          "base_uri": "https://localhost:8080/",
          "height": 214
        },
        "outputId": "e6ff0520-f599-46d3-da4f-93e24ed3e381"
      },
      "source": [
        "k = str(input(\"Please input a key(lesson): \"))\n",
        "v = int(input(\"Please input a value(grades): \"))\n",
        "class_list = {k:v} \n",
        "print(class_list)"
      ],
      "execution_count": null,
      "outputs": [
        {
          "output_type": "error",
          "ename": "TypeError",
          "evalue": "ignored",
          "traceback": [
            "\u001b[0;31m---------------------------------------------------------------------------\u001b[0m",
            "\u001b[0;31mTypeError\u001b[0m                                 Traceback (most recent call last)",
            "\u001b[0;32m<ipython-input-21-16677afff2a8>\u001b[0m in \u001b[0;36m<module>\u001b[0;34m()\u001b[0m\n\u001b[0;32m----> 1\u001b[0;31m \u001b[0mk\u001b[0m \u001b[0;34m=\u001b[0m \u001b[0mstr\u001b[0m\u001b[0;34m(\u001b[0m\u001b[0minput\u001b[0m\u001b[0;34m(\u001b[0m\u001b[0;34m\"Please input a key(lesson): \"\u001b[0m\u001b[0;34m)\u001b[0m\u001b[0;34m)\u001b[0m\u001b[0;34m\u001b[0m\u001b[0;34m\u001b[0m\u001b[0m\n\u001b[0m\u001b[1;32m      2\u001b[0m \u001b[0mv\u001b[0m \u001b[0;34m=\u001b[0m \u001b[0mint\u001b[0m\u001b[0;34m(\u001b[0m\u001b[0minput\u001b[0m\u001b[0;34m(\u001b[0m\u001b[0;34m\"Please input a value(grades): \"\u001b[0m\u001b[0;34m)\u001b[0m\u001b[0;34m)\u001b[0m\u001b[0;34m\u001b[0m\u001b[0;34m\u001b[0m\u001b[0m\n\u001b[1;32m      3\u001b[0m \u001b[0mclass_list\u001b[0m \u001b[0;34m=\u001b[0m \u001b[0;34m{\u001b[0m\u001b[0mk\u001b[0m\u001b[0;34m:\u001b[0m\u001b[0mv\u001b[0m\u001b[0;34m}\u001b[0m\u001b[0;34m\u001b[0m\u001b[0;34m\u001b[0m\u001b[0m\n\u001b[1;32m      4\u001b[0m \u001b[0mprint\u001b[0m\u001b[0;34m(\u001b[0m\u001b[0mclass_list\u001b[0m\u001b[0;34m)\u001b[0m\u001b[0;34m\u001b[0m\u001b[0;34m\u001b[0m\u001b[0m\n",
            "\u001b[0;31mTypeError\u001b[0m: 'int' object is not callable"
          ]
        }
      ]
    },
    {
      "cell_type": "code",
      "metadata": {
        "colab": {
          "base_uri": "https://localhost:8080/"
        },
        "id": "mGr5DEHrTj-J",
        "outputId": "7cef3b58-c08f-4afa-8698-14a60b265883"
      },
      "source": [
        "mountain = tuple('Alps')\n",
        "#mountain = tuple('Alps', 'Rocks')  # tuple expects  1 argument at most\n",
        "print(mountain) \n"
      ],
      "execution_count": null,
      "outputs": [
        {
          "output_type": "stream",
          "text": [
            "('A', 'l', 'p', 's')\n"
          ],
          "name": "stdout"
        }
      ]
    },
    {
      "cell_type": "code",
      "metadata": {
        "colab": {
          "base_uri": "https://localhost:8080/"
        },
        "id": "WDUrxUyZUJ5u",
        "outputId": "e9686bcf-266e-4d6e-be0c-47f85afa6d19"
      },
      "source": [
        "my_list = ['a', 'b', 3, 4, 5, 6, 7, 4]\n",
        "\n",
        "my_tuple = tuple(my_list)\n",
        "\n",
        "print(type(my_tuple), my_tuple)\n",
        "\n",
        "\n",
        "my_list = ['a', 'b', 3, 4, 5, 6, 7, 4]\n",
        "\n",
        "my_tuple = tuple(my_list)\n",
        "\n",
        "print(my_tuple, type(my_tuple))\n",
        "\n",
        "club = tuple('Barcelona')\n",
        "print(club)\n",
        "club = list('Barcelona')\n",
        "print(club)"
      ],
      "execution_count": null,
      "outputs": [
        {
          "output_type": "stream",
          "text": [
            "<class 'tuple'> ('a', 'b', 3, 4, 5, 6, 7, 4)\n",
            "('a', 'b', 3, 4, 5, 6, 7, 4) <class 'tuple'>\n",
            "('B', 'a', 'r', 'c', 'e', 'l', 'o', 'n', 'a')\n",
            "['B', 'a', 'r', 'c', 'e', 'l', 'o', 'n', 'a']\n"
          ],
          "name": "stdout"
        }
      ]
    },
    {
      "cell_type": "code",
      "metadata": {
        "colab": {
          "base_uri": "https://localhost:8080/"
        },
        "id": "rXmur0IUVGzL",
        "outputId": "f1eeb79c-3e77-4521-d571-cb1f72f19adc"
      },
      "source": [
        "mix_value_tuple = (0, 'bird', 3.14, True)\n",
        "\n",
        "print(len(mix_value_tuple))\n",
        "print(mix_value_tuple)"
      ],
      "execution_count": null,
      "outputs": [
        {
          "output_type": "stream",
          "text": [
            "4\n",
            "(0, 'bird', 3.14, True)\n"
          ],
          "name": "stdout"
        }
      ]
    },
    {
      "cell_type": "code",
      "metadata": {
        "colab": {
          "base_uri": "https://localhost:8080/"
        },
        "id": "rsFi0wj9VlLH",
        "outputId": "a6bb43fd-048b-4a7e-a814-7063142ab960"
      },
      "source": [
        "city_list = ['Tokyo', 'Istanbul', 'Moskow', 'Dublin']\n",
        "\n",
        "city_list[0] = 'Athens'\n",
        "city_list[1] = 'Cairo'\n",
        "print(city_list)"
      ],
      "execution_count": null,
      "outputs": [
        {
          "output_type": "stream",
          "text": [
            "['Athens', 'Cairo', 'Moskow', 'Dublin']\n"
          ],
          "name": "stdout"
        }
      ]
    },
    {
      "cell_type": "code",
      "metadata": {
        "id": "K3mOcxJLVs_B"
      },
      "source": [
        "#city_list = ['Tokyo', 'Istanbul', 'Moskow', 'Dublin']\n",
        "\n",
        "#city_tuple = tuple(city_list)\n",
        "\n",
        "#city_tuple[0] = 'New York'  # you can't assign a value\n"
      ],
      "execution_count": null,
      "outputs": []
    },
    {
      "cell_type": "code",
      "metadata": {
        "id": "qSnN963GWFLk"
      },
      "source": [
        "mix_value = (10, False, 'fruit', 1.618)\n",
        "#mix_value.append(['vegetable', 2+3j])  # 'tuple' object has no attribute 'append'\n",
        "\n",
        "#print(len(mix_value))"
      ],
      "execution_count": null,
      "outputs": []
    },
    {
      "cell_type": "code",
      "metadata": {
        "colab": {
          "base_uri": "https://localhost:8080/"
        },
        "id": "Y3eG9sfypx19",
        "outputId": "f1ec1591-aa69-44bc-8ff8-80e4f257c9c2"
      },
      "source": [
        "print('www', 'clarusway', \"com\", sep='.', end=' ')\n",
        "print('will', end=' ')\n",
        "print('open', end=' ')\n",
        "print('your', end=' ')\n",
        "print('path', end='.')"
      ],
      "execution_count": null,
      "outputs": [
        {
          "output_type": "stream",
          "text": [
            "www.clarusway.com will open your path."
          ],
          "name": "stdout"
        }
      ]
    },
    {
      "cell_type": "code",
      "metadata": {
        "colab": {
          "base_uri": "https://localhost:8080/"
        },
        "id": "Dgvr0XC2qAtD",
        "outputId": "8fb29b85-5e19-4639-f769-d216484662d0"
      },
      "source": [
        "print(\"clarusway\" + str(2020))"
      ],
      "execution_count": null,
      "outputs": [
        {
          "output_type": "stream",
          "text": [
            "clarusway2020\n"
          ],
          "name": "stdout"
        }
      ]
    },
    {
      "cell_type": "code",
      "metadata": {
        "colab": {
          "base_uri": "https://localhost:8080/"
        },
        "id": "jKV2uArlJYsR",
        "outputId": "a53e3003-752b-4b7c-d38e-934ada0ba981"
      },
      "source": [
        "x = 12\n",
        "y = x + 21\n",
        "x = 2\n",
        "print(y//x)"
      ],
      "execution_count": null,
      "outputs": [
        {
          "output_type": "stream",
          "text": [
            "16\n"
          ],
          "name": "stdout"
        }
      ]
    },
    {
      "cell_type": "code",
      "metadata": {
        "colab": {
          "base_uri": "https://localhost:8080/"
        },
        "id": "0dGBJi1NKGz1",
        "outputId": "229988f5-d4ff-43d4-939d-a6d4000299ec"
      },
      "source": [
        "number = \"32\"\n",
        "print(1988 + int(number))\n",
        "\n",
        "print(\"1\" + str(\"1\"))"
      ],
      "execution_count": null,
      "outputs": [
        {
          "output_type": "stream",
          "text": [
            "2020\n",
            "11\n"
          ],
          "name": "stdout"
        }
      ]
    },
    {
      "cell_type": "code",
      "metadata": {
        "colab": {
          "base_uri": "https://localhost:8080/"
        },
        "id": "KdxFsu5MSEOV",
        "outputId": "29bd8ab5-aef0-4c95-ff94-51bd7f3cf987"
      },
      "source": [
        "print(\"{4} {9} {1} {7} {5} {0} {6} {8} {3} {2}\".format('while', 'dream', 'work.', 'and', 'Some', 'success', 'others', 'of', 'wake up', 'people'))"
      ],
      "execution_count": null,
      "outputs": [
        {
          "output_type": "stream",
          "text": [
            "Some people dream of success while others wake up and work.\n"
          ],
          "name": "stdout"
        }
      ]
    },
    {
      "cell_type": "code",
      "metadata": {
        "colab": {
          "base_uri": "https://localhost:8080/"
        },
        "id": "6K8xFhrgS_GZ",
        "outputId": "db13f731-3b43-4768-a6cc-a876eabb224a"
      },
      "source": [
        "print(not None or  1 )"
      ],
      "execution_count": null,
      "outputs": [
        {
          "output_type": "stream",
          "text": [
            "True\n"
          ],
          "name": "stdout"
        }
      ]
    },
    {
      "cell_type": "code",
      "metadata": {
        "colab": {
          "base_uri": "https://localhost:8080/"
        },
        "id": "JKzsWOvCUkWR",
        "outputId": "977e9cf3-cce8-4c5d-f367-95ffd2a57ed8"
      },
      "source": [
        "section_3_5 = \"python data types and useful operations\"\n",
        "print(str.title(section_3_5))"
      ],
      "execution_count": null,
      "outputs": [
        {
          "output_type": "stream",
          "text": [
            "Python Data Types And Useful Operations\n"
          ],
          "name": "stdout"
        }
      ]
    },
    {
      "cell_type": "code",
      "metadata": {
        "id": "OncIqqaQX3Dm",
        "colab": {
          "base_uri": "https://localhost:8080/"
        },
        "outputId": "a430042e-7728-4642-f09b-47eb87d7ae32"
      },
      "source": [
        "print(\"{0} {1} {2} {3} {4}\".format('I', 'will', 'find', 'a', 'job.'))"
      ],
      "execution_count": null,
      "outputs": [
        {
          "output_type": "stream",
          "text": [
            "I will find a job.\n"
          ],
          "name": "stdout"
        }
      ]
    },
    {
      "cell_type": "code",
      "metadata": {
        "colab": {
          "base_uri": "https://localhost:8080/"
        },
        "id": "93ZV1RQxmpnb",
        "outputId": "63928ddc-0205-41e0-a105-07ac08d1d733"
      },
      "source": [
        "city = ['New York', 'London', ['Istanbul', 555, 11.55, \"testwwww\"], 'Seoul', 'Sydney', 111, 222]\n",
        "print(city[:-4])\n",
        "print(city[-5][-2])\n",
        "\n",
        "print(city[1])\n",
        "print(city[-5])\n",
        "print(city)\n",
        "print(city[::-1])\n",
        "\n"
      ],
      "execution_count": null,
      "outputs": [
        {
          "output_type": "stream",
          "text": [
            "['New York', 'London', ['Istanbul', 555, 11.55, 'testwwww']]\n",
            "11.55\n",
            "London\n",
            "['Istanbul', 555, 11.55, 'testwwww']\n",
            "['New York', 'London', ['Istanbul', 555, 11.55, 'testwwww'], 'Seoul', 'Sydney', 111, 222]\n",
            "[222, 111, 'Sydney', 'Seoul', ['Istanbul', 555, 11.55, 'testwwww'], 'London', 'New York']\n"
          ],
          "name": "stdout"
        }
      ]
    },
    {
      "cell_type": "code",
      "metadata": {
        "colab": {
          "base_uri": "https://localhost:8080/"
        },
        "id": "NYbQXcc1tUNA",
        "outputId": "d14b62e3-4fd7-423a-c7e1-69530ae9b4f1"
      },
      "source": [
        "print(tuple(range(1,11)))"
      ],
      "execution_count": null,
      "outputs": [
        {
          "output_type": "stream",
          "text": [
            "(1, 2, 3, 4, 5, 6, 7, 8, 9, 10)\n"
          ],
          "name": "stdout"
        }
      ]
    },
    {
      "cell_type": "code",
      "metadata": {
        "id": "_gDii2WpopV4",
        "colab": {
          "base_uri": "https://localhost:8080/"
        },
        "outputId": "1898b672-0fb8-46a3-f2d9-9ff4b13f9231"
      },
      "source": [
        "print( {0} and False or [])"
      ],
      "execution_count": null,
      "outputs": [
        {
          "output_type": "stream",
          "text": [
            "[]\n"
          ],
          "name": "stdout"
        }
      ]
    },
    {
      "cell_type": "code",
      "metadata": {
        "colab": {
          "base_uri": "https://localhost:8080/"
        },
        "id": "ilrN_HlKLX_W",
        "outputId": "00d3d7f2-1524-408b-f7c1-6622d6710442"
      },
      "source": [
        "print(float(\"140\" * int(input(\"Enter a number:\" ))))\n"
      ],
      "execution_count": null,
      "outputs": [
        {
          "output_type": "stream",
          "text": [
            "Enter a number:2\n",
            "140140.0\n"
          ],
          "name": "stdout"
        }
      ]
    },
    {
      "cell_type": "code",
      "metadata": {
        "colab": {
          "base_uri": "https://localhost:8080/"
        },
        "id": "CX1g4NYfL6Ig",
        "outputId": "3da6f637-a9f7-4d1a-d502-6092afb17266"
      },
      "source": [
        "var1 = \"sleep\"\n",
        "var2 = \"eat\"\n",
        "var3 = \"better\"\n",
        "var4 = \"life\"\n",
        "text = f\"The less you {var1} and {var2}, the {var3} your {var4} will be.\"\n",
        "print(text)"
      ],
      "execution_count": null,
      "outputs": [
        {
          "output_type": "stream",
          "text": [
            "The less you sleep and eat, the better your life will be.\n"
          ],
          "name": "stdout"
        }
      ]
    },
    {
      "cell_type": "code",
      "metadata": {
        "colab": {
          "base_uri": "https://localhost:8080/"
        },
        "id": "ii_0Cg4EOfnb",
        "outputId": "95668317-513e-4afc-b82c-43f90f5bfeb1"
      },
      "source": [
        "city = \"SARAJEVO\"\n",
        "text = f\"{city.capitalize()}\"  # 2 methods of the same output\n",
        "print(text)\n",
        "\n",
        "city = \"SARAJEVO\"\n",
        "text = f\"{str.capitalize(city)}\"\n",
        "print(text)"
      ],
      "execution_count": null,
      "outputs": [
        {
          "output_type": "stream",
          "text": [
            "Sarajevo\n",
            "Sarajevo\n"
          ],
          "name": "stdout"
        }
      ]
    },
    {
      "cell_type": "code",
      "metadata": {
        "colab": {
          "base_uri": "https://localhost:8080/"
        },
        "id": "ojQFSSULO--C",
        "outputId": "73502a62-f00f-4d67-d01a-48da25f52033"
      },
      "source": [
        "city = \"SARAJEVO\"\n",
        "text = f\"I live in {city.capitalize()}.\"\n",
        "print(text)"
      ],
      "execution_count": null,
      "outputs": [
        {
          "output_type": "stream",
          "text": [
            "I live in Sarajevo.\n"
          ],
          "name": "stdout"
        }
      ]
    },
    {
      "cell_type": "code",
      "metadata": {
        "colab": {
          "base_uri": "https://localhost:8080/"
        },
        "id": "W9Wtu3JBL6Mu",
        "outputId": "9d3f791e-e225-442a-bd24-78578db7ea8d"
      },
      "source": [
        "print(int(\"5\" + \"1\"))\n",
        "print(str(\"5\" + \"1\"))\n",
        "print(\"5\" + \"1\")"
      ],
      "execution_count": null,
      "outputs": [
        {
          "output_type": "stream",
          "text": [
            "51\n",
            "51\n",
            "51\n"
          ],
          "name": "stdout"
        }
      ]
    },
    {
      "cell_type": "code",
      "metadata": {
        "colab": {
          "base_uri": "https://localhost:8080/"
        },
        "id": "IiX4qohw_9ax",
        "outputId": "f360a1b9-a5e4-4991-cc09-8f268e3d2ef7"
      },
      "source": [
        "print(\"spam \" + \"eggs\")\n",
        "print('2' + '2')"
      ],
      "execution_count": null,
      "outputs": [
        {
          "output_type": "stream",
          "text": [
            "spam eggs\n",
            "22\n"
          ],
          "name": "stdout"
        }
      ]
    },
    {
      "cell_type": "code",
      "metadata": {
        "colab": {
          "base_uri": "https://localhost:8080/"
        },
        "id": "hr0c7_1TL9Gi",
        "outputId": "dc66b771-f8dd-428d-f890-2900d604b19b"
      },
      "source": [
        "x = '2'\n",
        "y = '4'\n",
        "z = int(x) + int(y)\n",
        "print(z)\n",
        "\n"
      ],
      "execution_count": null,
      "outputs": [
        {
          "output_type": "stream",
          "text": [
            "6\n"
          ],
          "name": "stdout"
        }
      ]
    },
    {
      "cell_type": "code",
      "metadata": {
        "colab": {
          "base_uri": "https://localhost:8080/"
        },
        "id": "F815oU8YONKW",
        "outputId": "6ed82691-462c-4a04-9977-f4a1af905558"
      },
      "source": [
        "x = 'a'\n",
        "x *= 3\n",
        "print(x)"
      ],
      "execution_count": null,
      "outputs": [
        {
          "output_type": "stream",
          "text": [
            "aaa\n"
          ],
          "name": "stdout"
        }
      ]
    },
    {
      "cell_type": "code",
      "metadata": {
        "colab": {
          "base_uri": "https://localhost:8080/"
        },
        "id": "uXMRZV4AOyrv",
        "outputId": "2bfd2c58-32f4-4c2c-df8e-bc2c0959ffce"
      },
      "source": [
        "name = input()\n",
        "print(\"Welcome \" + name)"
      ],
      "execution_count": null,
      "outputs": [
        {
          "output_type": "stream",
          "text": [
            "Javid\n",
            "Welcome Javid\n"
          ],
          "name": "stdout"
        }
      ]
    },
    {
      "cell_type": "code",
      "metadata": {
        "colab": {
          "base_uri": "https://localhost:8080/"
        },
        "id": "F-8A5gGQPdCP",
        "outputId": "6280dc4d-5ff1-43d6-e4ce-254a7f6bc7bb"
      },
      "source": [
        "bill = int(input())\n",
        "bill *= 0.2\n",
        "print(bill)"
      ],
      "execution_count": null,
      "outputs": [
        {
          "output_type": "stream",
          "text": [
            "10\n",
            "2.0\n"
          ],
          "name": "stdout"
        }
      ]
    },
    {
      "cell_type": "code",
      "metadata": {
        "colab": {
          "base_uri": "https://localhost:8080/"
        },
        "id": "fseBujAIibSz",
        "outputId": "7739f317-bd1b-4cac-ddbc-5dd99292ffc1"
      },
      "source": [
        "city = ['New York', 'London', 'Istanbul', 'Seoul', 'Sydney', 111, 222]\n",
        "print(city[-6])\n",
        "print(city[1])\n",
        "\n",
        "print(city)\n",
        "print(city[::-1])"
      ],
      "execution_count": null,
      "outputs": [
        {
          "output_type": "stream",
          "text": [
            "London\n",
            "London\n",
            "['New York', 'London', 'Istanbul', 'Seoul', 'Sydney', 111, 222]\n",
            "[222, 111, 'Sydney', 'Seoul', 'Istanbul', 'London', 'New York']\n"
          ],
          "name": "stdout"
        }
      ]
    },
    {
      "cell_type": "code",
      "metadata": {
        "colab": {
          "base_uri": "https://localhost:8080/"
        },
        "id": "5xITppmTmSg4",
        "outputId": "8b37cf21-abe6-467b-92d1-ecf5dd9c206a"
      },
      "source": [
        "city = ['New York', 'London', ['Istanbul', 555], 'Seoul', 'Sydney', 111, 222]\n",
        "print(city[2][0])  # string with one element and no brackets\n",
        "print(city[-5][0])\n",
        "print(city[-5])  # list with more than on elements with squared brackets\n",
        "\n"
      ],
      "execution_count": null,
      "outputs": [
        {
          "output_type": "stream",
          "text": [
            "Istanbul\n",
            "Istanbul\n",
            "['Istanbul', 555]\n"
          ],
          "name": "stdout"
        }
      ]
    },
    {
      "cell_type": "code",
      "metadata": {
        "colab": {
          "base_uri": "https://localhost:8080/"
        },
        "id": "CtrJrAFDobiY",
        "outputId": "cabe4a84-4aaf-48db-8c78-2283d3d3e164"
      },
      "source": [
        "city = ['New York', 'London', ['Istanbul', 555, 11.55, 'testwwww'], 'Seoul', 'Sydney', 111, 222]\n",
        "print(city[2][2])\n",
        "print(city[-5][2])\n",
        "print(city[-5], '\\n')\n",
        "\n",
        "\n",
        "#print(len(city[6]))  # integers have no length\n",
        "print(len(city[3]))\n",
        "print(len(city[2]))\n",
        "print(len(city[2][3]),'\\n')  # !!!!\n",
        "\n",
        "\n",
        "print(city[-5])\n",
        "print(len(city[2]))\n",
        "print(len(city[2]) - 1)\n",
        "print(city[-5][len(city[2]) -1])  # !!!!!!!!\n",
        "print(city[2][len(city[2]) - 1], '\\n')  # !!!!!!!!\n",
        "\n",
        "\n",
        "print(city[2][-2])\n",
        "print(city[-5][-2])\n",
        "print(city[-5], '\\n')\n",
        "\n",
        "\n",
        "print(city[::-1])\n",
        "print(city[::-2], '\\n')\n",
        "\n",
        "\n",
        "print(city[6:1:-1])\n",
        "print(city[1:6:-1])  # !!!!!\n",
        "\n"
      ],
      "execution_count": null,
      "outputs": [
        {
          "output_type": "stream",
          "text": [
            "11.55\n",
            "11.55\n",
            "['Istanbul', 555, 11.55, 'testwwww'] \n",
            "\n",
            "5\n",
            "4\n",
            "8 \n",
            "\n",
            "['Istanbul', 555, 11.55, 'testwwww']\n",
            "4\n",
            "3\n",
            "testwwww\n",
            "testwwww \n",
            "\n",
            "11.55\n",
            "11.55\n",
            "['Istanbul', 555, 11.55, 'testwwww'] \n",
            "\n",
            "[222, 111, 'Sydney', 'Seoul', ['Istanbul', 555, 11.55, 'testwwww'], 'London', 'New York']\n",
            "[222, 'Sydney', ['Istanbul', 555, 11.55, 'testwwww'], 'New York'] \n",
            "\n",
            "[222, 111, 'Sydney', 'Seoul', ['Istanbul', 555, 11.55, 'testwwww']]\n",
            "[]\n"
          ],
          "name": "stdout"
        }
      ]
    },
    {
      "cell_type": "code",
      "metadata": {
        "colab": {
          "base_uri": "https://localhost:8080/"
        },
        "id": "IaNLZC--Me-8",
        "outputId": "50e44f01-cec8-46e1-fd45-b8cf9f37f554"
      },
      "source": [
        "tuple_1 = ('h', 'a','p', 'p', 'y')\n",
        "word = 'happy'\n",
        "tuple_2 = tuple(word)\n",
        "l1 = list(word)\n",
        "\n",
        "print(\"here is our first tupple: \", tuple_1)\n",
        "print(tuple_2)\n",
        "print(l1)"
      ],
      "execution_count": null,
      "outputs": [
        {
          "output_type": "stream",
          "text": [
            "here is our first tupple:  ('h', 'a', 'p', 'p', 'y')\n",
            "('h', 'a', 'p', 'p', 'y')\n",
            "['h', 'a', 'p', 'p', 'y']\n"
          ],
          "name": "stdout"
        }
      ]
    },
    {
      "cell_type": "code",
      "metadata": {
        "colab": {
          "base_uri": "https://localhost:8080/"
        },
        "id": "Xe6kwxywNc9d",
        "outputId": "f6881f83-17ad-4b29-a273-54049731b1b2"
      },
      "source": [
        "empty_tuple = ()\n",
        "print(type(empty_tuple))\n",
        "empty_list = []\n",
        "print(type(empty_list))"
      ],
      "execution_count": null,
      "outputs": [
        {
          "output_type": "stream",
          "text": [
            "<class 'tuple'>\n",
            "<class 'list'>\n"
          ],
          "name": "stdout"
        }
      ]
    },
    {
      "cell_type": "code",
      "metadata": {
        "colab": {
          "base_uri": "https://localhost:8080/"
        },
        "id": "Znm4fLgum_vi",
        "outputId": "ad5c8fff-5666-4ec1-8a4c-8f7cb92658a2"
      },
      "source": [
        "str1 = 'this is a string'\n",
        "\n",
        "list1 = list(str1)\n",
        "tuple1 = tuple(str1)\n",
        "\n",
        "\n",
        "print(list1)\n",
        "print(tuple1)"
      ],
      "execution_count": null,
      "outputs": [
        {
          "output_type": "stream",
          "text": [
            "['t', 'h', 'i', 's', ' ', 'i', 's', ' ', 'a', ' ', 's', 't', 'r', 'i', 'n', 'g']\n",
            "('t', 'h', 'i', 's', ' ', 'i', 's', ' ', 'a', ' ', 's', 't', 'r', 'i', 'n', 'g')\n"
          ],
          "name": "stdout"
        }
      ]
    },
    {
      "cell_type": "code",
      "metadata": {
        "colab": {
          "base_uri": "https://localhost:8080/"
        },
        "id": "kPw1DaujpJwm",
        "outputId": "f43bb9f8-ef56-4422-88b5-398a5dd42b21"
      },
      "source": [
        "print(tuple(range(11)))\n",
        "print(tuple(range(1, 11)))\n",
        "\n",
        "mytuple = tuple(range(1,11))\n",
        "print(mytuple)"
      ],
      "execution_count": null,
      "outputs": [
        {
          "output_type": "stream",
          "text": [
            "(0, 1, 2, 3, 4, 5, 6, 7, 8, 9, 10)\n",
            "(1, 2, 3, 4, 5, 6, 7, 8, 9, 10)\n",
            "(1, 2, 3, 4, 5, 6, 7, 8, 9, 10)\n"
          ],
          "name": "stdout"
        }
      ]
    },
    {
      "cell_type": "code",
      "metadata": {
        "colab": {
          "base_uri": "https://localhost:8080/"
        },
        "id": "2D4qbBvszDJs",
        "outputId": "003f8e5f-9d0c-4d17-888d-361d7f000d6e"
      },
      "source": [
        "college_years = ['Freshman', 'Sophomore', 'Junior', 'Senior']\n",
        "print(list(enumerate(college_years, 2019)))\n"
      ],
      "execution_count": null,
      "outputs": [
        {
          "output_type": "stream",
          "text": [
            "[(2019, 'Freshman'), (2020, 'Sophomore'), (2021, 'Junior'), (2022, 'Senior')]\n"
          ],
          "name": "stdout"
        }
      ]
    },
    {
      "cell_type": "code",
      "metadata": {
        "colab": {
          "base_uri": "https://localhost:8080/"
        },
        "id": "HD5d9_88z4Ll",
        "outputId": "42175797-4769-45c4-a4e0-262f07f3b68e"
      },
      "source": [
        "fruits = ['Apples', 'Oranges', 'Bananas']\n",
        "quantities = [5, 3, 4]\n",
        "prices = [1.50, 2.25, 0.89]\n",
        "output=[]\n",
        "a = fruits[0], quantities[0], prices[0]\n",
        "b = fruits[1], quantities[1], prices[1]\n",
        "c = fruits[2], quantities[2], prices[2]\n",
        "\n",
        "\n",
        "\n",
        "my_list1 = tuple(a) + tuple(b) + tuple(c)\n",
        "my_list2 = \n",
        "output.append(my_list)\n",
        "\n",
        "print(output)\n",
        "\n",
        "#print(list(my_list))\n",
        "\n",
        "print(tuple(a), tuple(b), tuple(c), sep=\"\\n\")\n"
      ],
      "execution_count": null,
      "outputs": [
        {
          "output_type": "stream",
          "text": [
            "[('Apples', 5, 1.5, 'Oranges', 3, 2.25, 'Bananas', 4, 0.89)]\n",
            "('Apples', 5, 1.5)\n",
            "('Oranges', 3, 2.25)\n",
            "('Bananas', 4, 0.89)\n"
          ],
          "name": "stdout"
        }
      ]
    },
    {
      "cell_type": "code",
      "metadata": {
        "colab": {
          "base_uri": "https://localhost:8080/"
        },
        "id": "T1mDPzXo2xV0",
        "outputId": "db881e57-83e0-4718-a37c-be6d8974bb3e"
      },
      "source": [
        "fruits = ['Apples', 'Oranges', 'Bananas']\n",
        "quantities = [5, 3, 4]\n",
        "prices = [1.50, 2.25, 0.89]\n",
        "output=[]\n",
        "fruit_tuple_0 = (fruits[0], quantities[0], prices[0])\n",
        "output.append(output)\n",
        "fruit_tuple_1 = (fruits[1], quantities[1], prices[1])\n",
        "output.append(output)\n",
        "fruit_tuple_2 = (fruits[2], quantities[2], prices[2])\n",
        "output.append(output)\n",
        "print(fruit_tuple_0, fruit_tuple_1, fruit_tuple_2)\n"
      ],
      "execution_count": null,
      "outputs": [
        {
          "output_type": "stream",
          "text": [
            "('Apples', 5, 1.5) ('Oranges', 3, 2.25) ('Bananas', 4, 0.89)\n"
          ],
          "name": "stdout"
        }
      ]
    },
    {
      "cell_type": "code",
      "metadata": {
        "colab": {
          "base_uri": "https://localhost:8080/"
        },
        "id": "xS4NFVyG27ns",
        "outputId": "55a00169-0219-468e-cc2b-2e475e64826e"
      },
      "source": [
        "fruits = ['Apples', 'Oranges', 'Bananas']\n",
        "quantities = [5, 3, 4]\n",
        "prices = [1.50, 2.25, 0.89]\n",
        "groceries = zip(fruits, quantities, prices)\n",
        "print(list(groceries))\n"
      ],
      "execution_count": null,
      "outputs": [
        {
          "output_type": "stream",
          "text": [
            "[('Apples', 5, 1.5), ('Oranges', 3, 2.25), ('Bananas', 4, 0.89)]\n"
          ],
          "name": "stdout"
        }
      ]
    },
    {
      "cell_type": "code",
      "metadata": {
        "colab": {
          "base_uri": "https://localhost:8080/"
        },
        "id": "PhZSsnma2_gs",
        "outputId": "83dc66eb-1a32-44c0-9e9d-a595b13d9dcc"
      },
      "source": [
        "fruits = ['Apples', 'Oranges', 'Bananas']\n",
        "quantities = [5, 3, 4]\n",
        "prices = [1.50, 2.25, 0.89]\n",
        "i = 0\n",
        "output = []\n",
        "for fruit in fruits:\n",
        " for qty in quantities:\n",
        "  for price in prices:\n",
        "   output.append((fruit, qty, price))\n",
        " i += 1\n",
        "print(output)\n"
      ],
      "execution_count": null,
      "outputs": [
        {
          "output_type": "stream",
          "text": [
            "[('Apples', 5, 1.5), ('Apples', 5, 2.25), ('Apples', 5, 0.89), ('Apples', 3, 1.5), ('Apples', 3, 2.25), ('Apples', 3, 0.89), ('Apples', 4, 1.5), ('Apples', 4, 2.25), ('Apples', 4, 0.89), ('Oranges', 5, 1.5), ('Oranges', 5, 2.25), ('Oranges', 5, 0.89), ('Oranges', 3, 1.5), ('Oranges', 3, 2.25), ('Oranges', 3, 0.89), ('Oranges', 4, 1.5), ('Oranges', 4, 2.25), ('Oranges', 4, 0.89), ('Bananas', 5, 1.5), ('Bananas', 5, 2.25), ('Bananas', 5, 0.89), ('Bananas', 3, 1.5), ('Bananas', 3, 2.25), ('Bananas', 3, 0.89), ('Bananas', 4, 1.5), ('Bananas', 4, 2.25), ('Bananas', 4, 0.89)]\n"
          ],
          "name": "stdout"
        }
      ]
    },
    {
      "cell_type": "code",
      "metadata": {
        "colab": {
          "base_uri": "https://localhost:8080/"
        },
        "id": "GacFFgR83Flo",
        "outputId": "9f20a795-3073-4e16-b333-662849e6115e"
      },
      "source": [
        "fruits = ['Apples', 'Oranges', 'Bananas']\n",
        "quantities = [5, 3, 4]\n",
        "prices = [1.50, 2.25, 0.89]\n",
        "i = 0\n",
        "output = []\n",
        "for fruit in fruits:\n",
        " temp_qty = quantities[i]\n",
        " temp_price = prices[i]\n",
        " output.append((fruit, temp_qty, temp_price))\n",
        "i += 1\n",
        "print(output)\n"
      ],
      "execution_count": null,
      "outputs": [
        {
          "output_type": "stream",
          "text": [
            "[('Apples', 5, 1.5), ('Oranges', 5, 1.5), ('Bananas', 5, 1.5)]\n"
          ],
          "name": "stdout"
        }
      ]
    },
    {
      "cell_type": "code",
      "metadata": {
        "colab": {
          "base_uri": "https://localhost:8080/"
        },
        "id": "y50ut3fy2h31",
        "outputId": "ecf3a465-be54-4536-f435-06f2fc1fffcb"
      },
      "source": [
        "fruits = ['Apples', 'Oranges', 'Bananas']\n",
        "quantities = [5, 3, 4]\n",
        "prices = [1.50, 2.25, 0.89]\n",
        "output=[]\n",
        "a = fruits[0], quantities[0], prices[0]\n",
        "b = fruits[1], quantities[1], prices[1]\n",
        "c = fruits[2], quantities[2], prices[2]\n",
        "my_list = tuple(a), tuple(b), tuple(c)\n",
        "output.append(my_list)\n",
        "\n",
        "print(my_list)\n"
      ],
      "execution_count": null,
      "outputs": [
        {
          "output_type": "stream",
          "text": [
            "(('Apples', 5, 1.5), ('Oranges', 3, 2.25), ('Bananas', 4, 0.89))\n"
          ],
          "name": "stdout"
        }
      ]
    },
    {
      "cell_type": "code",
      "metadata": {
        "colab": {
          "base_uri": "https://localhost:8080/"
        },
        "id": "iaC0ZXGtYiLg",
        "outputId": "5f1da5e9-cc7c-4807-eb53-c9ecc360c6dd"
      },
      "source": [
        "state_capitals = {'Arkansas': 'Little Rock',\n",
        "                  'Colorado': 'Denver',\n",
        "                  'California': 'Sacramento',\n",
        "                  'Georgia': 'Atlanta' \n",
        "                 }\n",
        "\n",
        "print(state_capitals['Colorado']) # accessing method"
      ],
      "execution_count": null,
      "outputs": [
        {
          "output_type": "stream",
          "text": [
            "Denver\n"
          ],
          "name": "stdout"
        }
      ]
    },
    {
      "cell_type": "code",
      "metadata": {
        "colab": {
          "base_uri": "https://localhost:8080/"
        },
        "id": "yUde2CXRet_d",
        "outputId": "2bf5c621-b4e6-4fc1-da4b-6245245cebe1"
      },
      "source": [
        "state_capitals = {'Arkansas': 'Little Rock',\n",
        "                  'Colorado': 'Denver',\n",
        "                  'California': 'Sacramento',\n",
        "                  'Georgia': 'Atlanta' \n",
        "                 }\n",
        "\n",
        "state_capitals['Virginia'] = 'Richmond' # adding a new item\n",
        "\n",
        "print(state_capitals)"
      ],
      "execution_count": null,
      "outputs": [
        {
          "output_type": "stream",
          "text": [
            "{'Arkansas': 'Little Rock', 'Colorado': 'Denver', 'California': 'Sacramento', 'Georgia': 'Atlanta', 'Virginia': 'Richmond'}\n"
          ],
          "name": "stdout"
        }
      ]
    },
    {
      "cell_type": "code",
      "metadata": {
        "colab": {
          "base_uri": "https://localhost:8080/"
        },
        "id": "AV0EH_DTfBoW",
        "outputId": "ad84409e-839a-45c1-f69c-9e1884d07dbd"
      },
      "source": [
        "dict_by_dict = dict(animal='dog', planet='neptun', number=40, pi=3.14, is_good=True)\n",
        "\n",
        "print(dict_by_dict)"
      ],
      "execution_count": null,
      "outputs": [
        {
          "output_type": "stream",
          "text": [
            "{'animal': 'dog', 'planet': 'neptun', 'number': 40, 'pi': 3.14, 'is_good': True}\n"
          ],
          "name": "stdout"
        }
      ]
    },
    {
      "cell_type": "code",
      "metadata": {
        "id": "fPKiGYGvaYJs"
      },
      "source": [
        "dict_by_dict = dict(animal='dog', planet='neptun', number=40, pi=3.14, is_good=True)\n",
        "\n",
        "print(dict_by_dict)"
      ],
      "execution_count": null,
      "outputs": []
    },
    {
      "cell_type": "code",
      "metadata": {
        "colab": {
          "base_uri": "https://localhost:8080/"
        },
        "id": "8FekJWKOhYVK",
        "outputId": "6bbf694c-7e49-494a-f9ba-25f62018c10d"
      },
      "source": [
        "dict_by_dict = {'animal': 'dog',\n",
        "                'planet': 'neptun',\n",
        "                'number': 40,\n",
        "                'pi': 3.14,\n",
        "                'is_good': True}\n",
        "\n",
        "print(dict_by_dict.items(), '\\n')\n",
        "print(dict_by_dict.keys(), '\\n')\n",
        "print(dict_by_dict.values())"
      ],
      "execution_count": null,
      "outputs": [
        {
          "output_type": "stream",
          "text": [
            "dict_items([('animal', 'dog'), ('planet', 'neptun'), ('number', 40), ('pi', 3.14), ('is_good', True)]) \n",
            "\n",
            "dict_keys(['animal', 'planet', 'number', 'pi', 'is_good']) \n",
            "\n",
            "dict_values(['dog', 'neptun', 40, 3.14, True])\n"
          ],
          "name": "stdout"
        }
      ]
    },
    {
      "cell_type": "code",
      "metadata": {
        "colab": {
          "base_uri": "https://localhost:8080/"
        },
        "id": "qyvlnxVfhaoc",
        "outputId": "f1a62f80-3295-4e9f-a47d-81c32149d681"
      },
      "source": [
        "dict_by_dict = {'animal': 'dog',\n",
        "                'planet': 'neptun',\n",
        "                'number': 40,\n",
        "                'pi': 3.14,\n",
        "                'is_good': True}\n",
        "\n",
        "dict_by_dict.update({'is_bad': False})\n",
        "\n",
        "print(dict_by_dict)"
      ],
      "execution_count": null,
      "outputs": [
        {
          "output_type": "stream",
          "text": [
            "{'animal': 'dog', 'planet': 'neptun', 'number': 40, 'pi': 3.14, 'is_good': True, 'is_bad': False}\n"
          ],
          "name": "stdout"
        }
      ]
    },
    {
      "cell_type": "code",
      "metadata": {
        "id": "anraUKdzbZQV"
      },
      "source": [
        "fruit1 = input(\"enter fruit 1 : \"), input(\"dfsdfs\")\n",
        "fruit2 = str(input(\"enter fruit 2 : \"))\n",
        "fruit3 = str(input(\"enter fruit 3 : \"))\n",
        "dict1 = fruit1\n",
        "dict1.update({\"fruit\")\n",
        "print(dict1)\\"
      ],
      "execution_count": null,
      "outputs": []
    },
    {
      "cell_type": "code",
      "metadata": {
        "colab": {
          "base_uri": "https://localhost:8080/"
        },
        "id": "OPNL06ClhtoH",
        "outputId": "8a55e985-98fb-4fa2-da19-9d6e10006d5f"
      },
      "source": [
        "dict_by_dict = {'animal': 'dog',\n",
        "               'planet': 'neptun',\n",
        "               'number': 40,\n",
        "               'pi': 3.14,\n",
        "               'is_good': True,\n",
        "               'is_bad': False}\n",
        "\n",
        "del dict_by_dict['animal']\n",
        "\n",
        "print(dict_by_dict) "
      ],
      "execution_count": null,
      "outputs": [
        {
          "output_type": "stream",
          "text": [
            "{'planet': 'neptun', 'number': 40, 'pi': 3.14, 'is_good': True, 'is_bad': False}\n"
          ],
          "name": "stdout"
        }
      ]
    },
    {
      "cell_type": "code",
      "metadata": {
        "colab": {
          "base_uri": "https://localhost:8080/"
        },
        "id": "CG4u6kfZiHY3",
        "outputId": "babc1000-9558-4490-d6c1-8ee21c6734c9"
      },
      "source": [
        "dict_by_dict = {'planet': 'neptun',\n",
        "               'number': 40,\n",
        "               'pi': 3.14,\n",
        "               'is_good': True,\n",
        "               'is_bad': False}\n",
        "\n",
        "print('pi' in dict_by_dict) \n",
        "print('animal' not in dict_by_dict)  # remember, we have deleted 'animal'"
      ],
      "execution_count": null,
      "outputs": [
        {
          "output_type": "stream",
          "text": [
            "True\n",
            "True\n"
          ],
          "name": "stdout"
        }
      ]
    },
    {
      "cell_type": "code",
      "metadata": {
        "colab": {
          "base_uri": "https://localhost:8080/",
          "height": 214
        },
        "id": "wNzbjlRJctpF",
        "outputId": "d1a5b876-a5c6-4960-c209-05c5796238a1"
      },
      "source": [
        "k = input(\"Please input a key: \") \n",
        "v = input(\"Plesse input a value: \") \n",
        "classe_list = {k:v} \n",
        "print(classe_list)"
      ],
      "execution_count": null,
      "outputs": [
        {
          "output_type": "error",
          "ename": "TypeError",
          "evalue": "ignored",
          "traceback": [
            "\u001b[0;31m---------------------------------------------------------------------------\u001b[0m",
            "\u001b[0;31mTypeError\u001b[0m                                 Traceback (most recent call last)",
            "\u001b[0;32m<ipython-input-16-377d7f8f8e3a>\u001b[0m in \u001b[0;36m<module>\u001b[0;34m()\u001b[0m\n\u001b[0;32m----> 1\u001b[0;31m \u001b[0mk\u001b[0m \u001b[0;34m=\u001b[0m \u001b[0minput\u001b[0m\u001b[0;34m(\u001b[0m\u001b[0;34m\"Please input a key: \"\u001b[0m\u001b[0;34m)\u001b[0m\u001b[0;34m\u001b[0m\u001b[0;34m\u001b[0m\u001b[0m\n\u001b[0m\u001b[1;32m      2\u001b[0m \u001b[0mv\u001b[0m \u001b[0;34m=\u001b[0m \u001b[0minput\u001b[0m\u001b[0;34m(\u001b[0m\u001b[0;34m\"Plesse input a value: \"\u001b[0m\u001b[0;34m)\u001b[0m\u001b[0;34m\u001b[0m\u001b[0;34m\u001b[0m\u001b[0m\n\u001b[1;32m      3\u001b[0m \u001b[0mclasse_list\u001b[0m \u001b[0;34m=\u001b[0m \u001b[0;34m{\u001b[0m\u001b[0mk\u001b[0m\u001b[0;34m:\u001b[0m\u001b[0mv\u001b[0m\u001b[0;34m}\u001b[0m\u001b[0;34m\u001b[0m\u001b[0;34m\u001b[0m\u001b[0m\n\u001b[1;32m      4\u001b[0m \u001b[0mprint\u001b[0m\u001b[0;34m(\u001b[0m\u001b[0mclasse_list\u001b[0m\u001b[0;34m)\u001b[0m\u001b[0;34m\u001b[0m\u001b[0;34m\u001b[0m\u001b[0m\n",
            "\u001b[0;31mTypeError\u001b[0m: 'int' object is not callable"
          ]
        }
      ]
    },
    {
      "cell_type": "code",
      "metadata": {
        "colab": {
          "base_uri": "https://localhost:8080/"
        },
        "id": "fQyBfKyEiQ_a",
        "outputId": "22a782e7-40c3-44b8-ae02-4d71b5a9efc8"
      },
      "source": [
        "student_ages = {\"Harry\": 29,\n",
        "                \"Clark\": 32,\n",
        "                \"Peter\": 22,\n",
        "                \"Bruce\": 36\n",
        "                }\n",
        "print(student_ages['Clark'])"
      ],
      "execution_count": null,
      "outputs": [
        {
          "output_type": "stream",
          "text": [
            "32\n"
          ],
          "name": "stdout"
        }
      ]
    },
    {
      "cell_type": "code",
      "metadata": {
        "colab": {
          "base_uri": "https://localhost:8080/"
        },
        "id": "5rkbiTeSjAbZ",
        "outputId": "bcc8d0e5-bae2-4369-d704-405682a6045f"
      },
      "source": [
        "school_records={\n",
        "    \"personal_info\":\n",
        "        {\"kid\":{\"tom\": {\"class\":\"intermediate\", \"age\":10},\n",
        "                \"sue\": {\"class\":\"elementary\", \"age\":8}\n",
        "               },\n",
        "         \"teen\":{\"joseph\":{\"class\":\"college\", \"age\":19},\n",
        "                 \"marry\":{\"class\":\"high school\", \"age\":16}\n",
        "               },               \n",
        "        },\n",
        "}\n",
        "\n",
        "print(school_records['personal_info']['teen']['marry']['age'])\n"
      ],
      "execution_count": null,
      "outputs": [
        {
          "output_type": "stream",
          "text": [
            "16\n"
          ],
          "name": "stdout"
        }
      ]
    },
    {
      "cell_type": "code",
      "metadata": {
        "colab": {
          "base_uri": "https://localhost:8080/"
        },
        "id": "H1TQp0VPkOFR",
        "outputId": "50a17a20-1181-4707-ea79-01dea8bbdc5e"
      },
      "source": [
        "customers = { \n",
        "'bank': \n",
        "{1: {'name': 'James', 'age': '27', 'sex': 'Male'}, \n",
        " 2: {'name': 'Nicole', 'age': '25', 'sex': 'Female'},  \n",
        " 3: {'name': 'Andy', 'age': '38', 'sex': 'Male'}, \n",
        " 4: {'name': 'Alex', 'age': '19', 'sex': 'Male'}, \n",
        " 5: {'name': 'Linda', 'age': '33', 'sex': 'Female'}, \n",
        "},\n",
        "'insurance':\n",
        "{1: {'name': 'Jashua', 'age': '33', 'sex': 'Male'}, \n",
        " 2: {'name': 'Marry', 'age': '66', 'sex': 'Female'},  \n",
        " 3: {'name': 'Adam', 'age': '56', 'sex': 'Male'}, \n",
        " 4: {'name': 'Samuel', 'age': '54', 'sex': 'Male'}, \n",
        " 5: {'name': 'Lisa', 'age': '22', 'sex': 'Female'},\n",
        "},\n",
        "}\n",
        "print(customers['insurance'][5]['age'])"
      ],
      "execution_count": null,
      "outputs": [
        {
          "output_type": "stream",
          "text": [
            "22\n"
          ],
          "name": "stdout"
        }
      ]
    },
    {
      "cell_type": "code",
      "metadata": {
        "colab": {
          "base_uri": "https://localhost:8080/"
        },
        "id": "jUlT8cfGPHxT",
        "outputId": "966b1576-1d80-4aba-aee7-8e4f371ccc98"
      },
      "source": [
        "grocer1 = {'fruit': 'apple', 'drink':'water'}\n",
        "grocer2 = dict(fruit ='apple', drink ='water')\n",
        "print(grocer1)\n",
        "print(grocer2)"
      ],
      "execution_count": null,
      "outputs": [
        {
          "output_type": "stream",
          "text": [
            "{'fruit': 'apple', 'drink': 'water'}\n",
            "{'fruit': 'apple', 'drink': 'water'}\n"
          ],
          "name": "stdout"
        }
      ]
    },
    {
      "cell_type": "code",
      "metadata": {
        "colab": {
          "base_uri": "https://localhost:8080/"
        },
        "id": "3V-sgafXUnqk",
        "outputId": "db15c7c4-b5ed-4ff8-c7f3-1e4ab95d8bf0"
      },
      "source": [
        "family = {'papi', 'mami', 'me'}\n",
        "print(family)"
      ],
      "execution_count": null,
      "outputs": [
        {
          "output_type": "stream",
          "text": [
            "{'me', 'mami', 'papi'}\n"
          ],
          "name": "stdout"
        }
      ]
    },
    {
      "cell_type": "code",
      "metadata": {
        "colab": {
          "base_uri": "https://localhost:8080/"
        },
        "id": "0lI3zWbXVDuz",
        "outputId": "69d16ba3-79a3-4cb1-bc4c-7d1787ff839d"
      },
      "source": [
        "myfriends = {\n",
        "    'name1' : 'Michael',\n",
        "    'name2' : 'Sait',\n",
        "    'name3' : 'Burhan',\n",
        "    'name4' : 'Tam',\n",
        "    'name5' : 'Javid'\n",
        "}\n",
        "\n",
        "print(myfriends)\n",
        "\n",
        "myfriends[\"name6\"] = 'Sofia'\n",
        "\n",
        "print(myfriends)"
      ],
      "execution_count": null,
      "outputs": [
        {
          "output_type": "stream",
          "text": [
            "{'name1': 'Michael', 'name2': 'Sait', 'name3': 'Burhan', 'name4': 'Tam', 'name5': 'Javid'}\n",
            "{'name1': 'Michael', 'name2': 'Sait', 'name3': 'Burhan', 'name4': 'Tam', 'name5': 'Javid', 'name6': 'Sofia'}\n"
          ],
          "name": "stdout"
        }
      ]
    },
    {
      "cell_type": "code",
      "metadata": {
        "colab": {
          "base_uri": "https://localhost:8080/"
        },
        "id": "H0wvJhADWgRB",
        "outputId": "4d420a62-7520-4e4e-f433-1a8e365bc35b"
      },
      "source": [
        "mix_dic = dict(animal = 'dog', planet = 'neptun', number = 40, pi =4.14159, is_good = True)\n",
        "#mix_dic = dict(\"22\" = 'dog', planet = 'neptun', number = 40, pi =4.14159, is_good = True)\n",
        "#mix_dic = dict(\"22\" = 'dog', planet = 'neptun', number = 40, pi =4.14159, is_good = True)\n",
        "print(mix_dic)"
      ],
      "execution_count": null,
      "outputs": [
        {
          "output_type": "stream",
          "text": [
            "{'animal': 'dog', 'planet': 'neptun', 'number': 40, 'pi': 4.14159, 'is_good': True}\n"
          ],
          "name": "stdout"
        }
      ]
    },
    {
      "cell_type": "code",
      "metadata": {
        "id": "A0Cnzr2f-wzr",
        "colab": {
          "base_uri": "https://localhost:8080/"
        },
        "outputId": "7078e5ec-c513-40b2-fa84-ce1ed502adb8"
      },
      "source": [
        "# grocer1 = {'fruit':'apple', 'drink':'water', \"meal\":\"dolma\", 'fruit':'peaches'}\n",
        "# grocer2 = dict(fruit='apple', drink='water', meal=\"kofte\")\n",
        "# print(grocer1)\n",
        "# grocer1[\"a new element\"] = \"whatever you want\"\n",
        "# grocer1[\"fruit\"] = \"orange\"\n",
        "# print(grocer1)\n",
        "# print(grocer2)\n",
        "# print(grocer2['fruit'])\n",
        "# print(grocer1['drink'])\n",
        "# myfriends = {\n",
        "#     \"name1\" : \"Michael\",\n",
        "#     'name2' : \"Sait\",\n",
        "#     'name3' : 'Burhan',\n",
        "#     \"name4\" : 'Tam',\n",
        "#     \"name5\" : \"Javid\"\n",
        "# }\n",
        "# print(myfriends)\n",
        "# myfriends[\"name6\"] = 'Sofia'\n",
        "# print(myfriends)\n",
        "# mix_dic = dict(animal = \"dog\", planet = \"neptun\", number = 40, pi = 3.14159, is_good = True)\n",
        "# print(mix_dic)\n",
        "# myfriends = dict(name1 = \"Michael\", name2 = \"Sait\", name3 = 'Burhan', name4 = 'Tam', name5 = \"Javid\" )\n",
        "# print(myfriends)\n",
        "# mix_dic = dict(animal = \"dog\", planet = \"neptun\", number = 40, pi = 3.14159, is_good = True)\n",
        "# # print(mix_dic)\n",
        "# # print(mix_dic.items())\n",
        "# # print(mix_dic.keys())\n",
        "# print(mix_dic.values())\n",
        "# myfriends = dict(name1 = \"Michael\", name2 = \"Sait\", name3 = 'Burhan', name4 = 'Tam' )\n",
        "# print(myfriends)\n",
        "# myfriends.update({\"name5\" : \"Tuğçe\"})\n",
        "# print(myfriends)\n",
        "# del myfriends[\"name5\"]\n",
        "# print(myfriends)\n",
        "school_records = {\n",
        "    \"personal_info\": {        \"kid\" : {   \"tom\": { \"class\": \"intermediate\", \"age\": 10 },\"sue\": { \"class\": \"elementary\",\"age\": 8 }},\"teen\" : {   \"joseph\": { \"class\": \"college\", \"age\": 19 },\"marry\": { \"class\": \"high school\", \"age\": 16}\n",
        "        },     },    \"grades_info\": {\n",
        "               \"kid\" : {   \"tom\": { \"math\": 88, \"speech\": 69 },\n",
        "                            \"sue\": { \"math\": 90, \"speech\": 81 }\n",
        "        },\n",
        "        \"teen\" : {\"joseph\":{\"coding\":80,\"math\":89},\"maryy\":{\"coding\":70,\"math\":96}},}}\n",
        "print(school_records['grades_info']['teen']['joseph']['coding'])"
      ],
      "execution_count": null,
      "outputs": [
        {
          "output_type": "stream",
          "text": [
            "80\n"
          ],
          "name": "stdout"
        }
      ]
    },
    {
      "cell_type": "code",
      "metadata": {
        "colab": {
          "base_uri": "https://localhost:8080/"
        },
        "id": "mHQ7Oo2aU12R",
        "outputId": "aac14047-a2f0-471d-85ba-f03728b2727d"
      },
      "source": [
        "escapes = [\"\\n\\t\", (\"\\t\", \"\\t\\t\"), [\"\\n\", \"\\n\\t\\t\"]]\n",
        "\"I am 40 years old.\\n\\tI have two children.\\n\\t\\tData Science is my IT domain.\"\n",
        "sentence = \"I am 40 years old.{}I have two children.{}Data Science is my IT domain.\".format(escapes[0], escapes[2][1])\n",
        "print(sentence)"
      ],
      "execution_count": null,
      "outputs": [
        {
          "output_type": "stream",
          "text": [
            "I am 40 years old.\n",
            "\tI have two children.\n",
            "\t\tData Science is my IT domain.\n"
          ],
          "name": "stdout"
        }
      ]
    },
    {
      "cell_type": "code",
      "metadata": {
        "id": "TDvdHeYVXiki",
        "colab": {
          "base_uri": "https://localhost:8080/"
        },
        "outputId": "ae2090e0-319f-4a26-b457-bcfe85ea6d85"
      },
      "source": [
        "numbers = [1, 3, 7, 4, 3, 0, 3, 6, 3]\n",
        "count = numbers.count(3)\n",
        "print(count)\n",
        "#n = len(numbers)\n",
        "#print(mostFrequent(numbers, n))"
      ],
      "execution_count": null,
      "outputs": [
        {
          "output_type": "stream",
          "text": [
            "4\n"
          ],
          "name": "stdout"
        }
      ]
    },
    {
      "cell_type": "code",
      "metadata": {
        "colab": {
          "base_uri": "https://localhost:8080/"
        },
        "id": "LSL6Begk76Fx",
        "outputId": "af3bb193-4db5-4f59-a681-9f9a43fd0bba"
      },
      "source": [
        "empty_set = set()\n",
        "\n",
        "print(type(empty_set))"
      ],
      "execution_count": null,
      "outputs": [
        {
          "output_type": "stream",
          "text": [
            "<class 'set'>\n"
          ],
          "name": "stdout"
        }
      ]
    },
    {
      "cell_type": "code",
      "metadata": {
        "colab": {
          "base_uri": "https://localhost:8080/"
        },
        "id": "ESd67IWu8H2v",
        "outputId": "9f385903-2db7-4bd2-ce9a-12461f37faa7"
      },
      "source": [
        "colorset = {'purple', 'orange', 'red', 'darkblue', 'yellow', 'red'}\n",
        "\n",
        "print(colorset)\n",
        "print(colorset)\n",
        "print(type(colorset))"
      ],
      "execution_count": null,
      "outputs": [
        {
          "output_type": "stream",
          "text": [
            "{'red', 'darkblue', 'orange', 'yellow', 'purple'}\n",
            "{'red', 'darkblue', 'orange', 'yellow', 'purple'}\n",
            "<class 'set'>\n"
          ],
          "name": "stdout"
        }
      ]
    },
    {
      "cell_type": "code",
      "metadata": {
        "colab": {
          "base_uri": "https://localhost:8080/"
        },
        "id": "SLgdsA6b9OVI",
        "outputId": "944a3374-09cd-412e-db86-03f1ef685db3"
      },
      "source": [
        "s = set('unselfishness')\n",
        "\n",
        "print(s) "
      ],
      "execution_count": null,
      "outputs": [
        {
          "output_type": "stream",
          "text": [
            "{'h', 's', 'n', 'f', 'u', 'i', 'l', 'e'}\n"
          ],
          "name": "stdout"
        }
      ]
    },
    {
      "cell_type": "code",
      "metadata": {
        "colab": {
          "base_uri": "https://localhost:8080/"
        },
        "id": "V2HooSH_9Yi-",
        "outputId": "a8811af5-76f6-4357-d475-76b13a7b80fc"
      },
      "source": [
        "flower_list = ['rose', 'violet', 'carnation', 'rose', 'orchid', 'rose', 'orchid']\n",
        "flowerset = set(flower_list)\n",
        "flowerlist = list(flowerset)\n",
        "\n",
        "print(flowerset) \n",
        "print(flowerlist)"
      ],
      "execution_count": null,
      "outputs": [
        {
          "output_type": "stream",
          "text": [
            "{'carnation', 'orchid', 'rose', 'violet'}\n",
            "['carnation', 'orchid', 'rose', 'violet']\n"
          ],
          "name": "stdout"
        }
      ]
    },
    {
      "cell_type": "code",
      "metadata": {
        "colab": {
          "base_uri": "https://localhost:8080/"
        },
        "id": "kqItJeIr91d3",
        "outputId": "e6bca1fb-4ce0-4681-bfec-bb4eec4231ea"
      },
      "source": [
        "#set2 = set([[1,2],[3,4],[4,5]])\n",
        "set1 = set([1,2,2,3,4,5])\n",
        "print(set1)\n",
        "#print(set2)\n"
      ],
      "execution_count": null,
      "outputs": [
        {
          "output_type": "stream",
          "text": [
            "{1, 2, 3, 4, 5}\n"
          ],
          "name": "stdout"
        }
      ]
    },
    {
      "cell_type": "code",
      "metadata": {
        "id": "s5lBKtfFBiOe",
        "colab": {
          "base_uri": "https://localhost:8080/"
        },
        "outputId": "0b7bb8ca-dfda-4618-d9cc-16bf1449d2d7"
      },
      "source": [
        "a = set('abracadabra')\n",
        "\n",
        "print(a) "
      ],
      "execution_count": null,
      "outputs": [
        {
          "output_type": "stream",
          "text": [
            "{'r', 'a', 'c', 'd', 'b'}\n"
          ],
          "name": "stdout"
        }
      ]
    },
    {
      "cell_type": "code",
      "metadata": {
        "id": "GKTAWYh8zltN",
        "colab": {
          "base_uri": "https://localhost:8080/"
        },
        "outputId": "b3b905b5-23c8-473b-e00b-66d1745422c6"
      },
      "source": [
        "strs = ['eat', 'tea', 'tan', 'ate', 'nat', 'bat', 'cat', 'tac']     \n",
        "anag = {}\n",
        "for i in strs:\n",
        "    x = \"\".join(sorted(i))\n",
        "    if x in anag:\n",
        "      anag[x].append(i)\n",
        "    else:\n",
        "      anag[x] = [i]\n",
        "print(list(anag.values()))"
      ],
      "execution_count": null,
      "outputs": [
        {
          "output_type": "stream",
          "text": [
            "[['eat', 'tea', 'ate'], ['tan', 'nat'], ['bat'], ['cat', 'tac']]\n"
          ],
          "name": "stdout"
        }
      ]
    }
  ]
}