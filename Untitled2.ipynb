{
  "nbformat": 4,
  "nbformat_minor": 0,
  "metadata": {
    "colab": {
      "name": "Untitled2.ipynb",
      "provenance": [],
      "authorship_tag": "ABX9TyMovUyUtm45HLqOnXjjnUbR",
      "include_colab_link": true
    },
    "kernelspec": {
      "name": "python3",
      "display_name": "Python 3"
    },
    "language_info": {
      "name": "python"
    }
  },
  "cells": [
    {
      "cell_type": "markdown",
      "metadata": {
        "id": "view-in-github",
        "colab_type": "text"
      },
      "source": [
        "<a href=\"https://colab.research.google.com/github/jmisrikhanov/Assignment/blob/main/Untitled2.ipynb\" target=\"_parent\"><img src=\"https://colab.research.google.com/assets/colab-badge.svg\" alt=\"Open In Colab\"/></a>"
      ]
    },
    {
      "cell_type": "code",
      "metadata": {
        "colab": {
          "base_uri": "https://localhost:8080/"
        },
        "id": "klBW--EnrE2u",
        "outputId": "aa159a56-f916-4250-d842-37cd14eef9f9"
      },
      "source": [
        "answer = 'Javid'\n",
        "\n",
        "question = 'What is your name?  '\n",
        "print (\"Let's find the password!\")\n",
        "\n",
        "while True:\n",
        "    guess = str(input(question))\n",
        "\n",
        "    if guess == answer:\n",
        "        print(\"Hello, Javid! The password is : W@12\")\n",
        "    else: \n",
        "        print(\"Hello, Amina! See you later.\")\n",
        "    break"
      ],
      "execution_count": 2,
      "outputs": [
        {
          "output_type": "stream",
          "text": [
            "Let's find the password!\n",
            "What is your name?  Javid\n",
            "Hello, Javid! The password is : W@12\n"
          ],
          "name": "stdout"
        }
      ]
    },
    {
      "cell_type": "code",
      "metadata": {
        "id": "f0xM58POrHSs"
      },
      "source": [
        ""
      ],
      "execution_count": null,
      "outputs": []
    }
  ]
}